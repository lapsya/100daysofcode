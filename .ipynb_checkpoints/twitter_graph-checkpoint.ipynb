{
 "cells": [
  {
   "cell_type": "code",
   "execution_count": 51,
   "metadata": {},
   "outputs": [],
   "source": [
    "import time\n",
    "import json\n",
    "\n",
    "import networkx as nx\n",
    "import twitter\n",
    "import matplotlib.pyplot as plt"
   ]
  },
  {
   "cell_type": "code",
   "execution_count": 7,
   "metadata": {},
   "outputs": [],
   "source": [
    "# read keys and tokens for Twitter API\n",
    "\n",
    "with open('consumer_key.key') as f:\n",
    "    consumer_key = f.read().strip()\n",
    "    \n",
    "with open('consumer_secret.key') as f:\n",
    "    consumer_secret = f.read().strip()\n",
    "    \n",
    "with open('access_token.token') as f:\n",
    "    access_token = f.read().strip()\n",
    "    \n",
    "with open('access_token_secret.token') as f:\n",
    "    access_token_secret = f.read().strip()\n",
    "    "
   ]
  },
  {
   "cell_type": "code",
   "execution_count": 10,
   "metadata": {},
   "outputs": [],
   "source": [
    "api = twitter.Api(consumer_key=consumer_key,\n",
    "                  consumer_secret=consumer_secret,\n",
    "                  access_token_key=access_token,\n",
    "                  access_token_secret=access_token_secret)"
   ]
  },
  {
   "cell_type": "code",
   "execution_count": 23,
   "metadata": {},
   "outputs": [],
   "source": [
    "try:\n",
    "    cache_dict = json.load(open('graph_cache.json', 'r'))\n",
    "except FileNotFoundError:\n",
    "    cache_dict = {}"
   ]
  },
  {
   "cell_type": "code",
   "execution_count": 65,
   "metadata": {},
   "outputs": [],
   "source": [
    "def construct_graph(user_id, output_graph, api, waves=3):\n",
    "    output_graph.add_node(user_id)\n",
    "    if waves != 0:\n",
    "        global cache_dict\n",
    "        \n",
    "        if user_id in cache_dict:\n",
    "            friends = cache_dict[user_id]\n",
    "        else:\n",
    "            try:\n",
    "                friends = api.GetFriendIDs(user_id=user_id, total_count=1000)\n",
    "            except twitter.TwitterError as err:\n",
    "                if err.message[0]['message'] == 'Rate limit exceeded':\n",
    "                    print('Sleeping')\n",
    "                    time.sleep(15 * 60)\n",
    "                friends = api.GetFriendIDs(user_id=user_id, total_count=1000)\n",
    "            cache_dict[user_id] = friends\n",
    "            \n",
    "        for friend in friends:\n",
    "            if friend not in output_graph.nodes():\n",
    "                construct_graph(friend, output_graph, api, waves - 1)\n",
    "            output_graph.add_edge(user_id, friend)"
   ]
  },
  {
   "cell_type": "code",
   "execution_count": null,
   "metadata": {
    "scrolled": true
   },
   "outputs": [
    {
     "name": "stdout",
     "output_type": "stream",
     "text": [
      "Sleeping\n"
     ]
    }
   ],
   "source": [
    "# start with my (@lapsya) id of 192217140 for now\n",
    "main_graph = nx.DiGraph()\n",
    "construct_graph(192217140, main_graph, api)"
   ]
  },
  {
   "cell_type": "code",
   "execution_count": null,
   "metadata": {
    "scrolled": true
   },
   "outputs": [],
   "source": [
    "main_graph.nodes()"
   ]
  },
  {
   "cell_type": "code",
   "execution_count": null,
   "metadata": {},
   "outputs": [],
   "source": [
    "cache_dict"
   ]
  },
  {
   "cell_type": "code",
   "execution_count": null,
   "metadata": {},
   "outputs": [],
   "source": [
    "with open('graph_cache.json', 'w') as f:\n",
    "    json.dump(cache_dict, f)"
   ]
  },
  {
   "cell_type": "code",
   "execution_count": null,
   "metadata": {},
   "outputs": [],
   "source": [
    "nx.draw(main_graph)\n",
    "plt.show()"
   ]
  }
 ],
 "metadata": {
  "kernelspec": {
   "display_name": "Python 3",
   "language": "python",
   "name": "python3"
  },
  "language_info": {
   "codemirror_mode": {
    "name": "ipython",
    "version": 3
   },
   "file_extension": ".py",
   "mimetype": "text/x-python",
   "name": "python",
   "nbconvert_exporter": "python",
   "pygments_lexer": "ipython3",
   "version": "3.6.4"
  }
 },
 "nbformat": 4,
 "nbformat_minor": 2
}

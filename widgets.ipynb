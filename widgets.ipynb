{
 "cells": [
  {
   "cell_type": "code",
   "execution_count": 29,
   "metadata": {},
   "outputs": [],
   "source": [
    "%matplotlib inline\n",
    "import ipywidgets as widgets\n",
    "import pandas as pd\n",
    "import numpy as np"
   ]
  },
  {
   "cell_type": "code",
   "execution_count": 7,
   "metadata": {},
   "outputs": [],
   "source": [
    "data = pd.read_csv('train.csv')"
   ]
  },
  {
   "cell_type": "code",
   "execution_count": 45,
   "metadata": {},
   "outputs": [],
   "source": [
    "analysis_columns = [col for col in data.columns if col[:5].upper() != 'DTIME' and col[:4] != 'TEXT']"
   ]
  },
  {
   "cell_type": "code",
   "execution_count": 48,
   "metadata": {},
   "outputs": [],
   "source": [
    "class Layout:\n",
    "    def __init__(self, df, columns):\n",
    "        self.df = df\n",
    "        self.columns = columns\n",
    "        \n",
    "    def tab_layout(self, col):\n",
    "        if col not in self.columns:\n",
    "            raise IndexError('Layout column not in specified DataFrame')\n",
    "        \n",
    "        if self.df[col].dtype == 'O':\n",
    "            categories = np.unique(self.df[col])\n",
    "            return widgets.SelectMultiple(\n",
    "                    options=categories,\n",
    "                    disabled=False,\n",
    "                    readout=True)\n",
    "        else:\n",
    "            return widgets.FloatSlider(\n",
    "                    value=7.5,\n",
    "                    min=self.df[col].min(),\n",
    "                    max=self.df[col].max(),\n",
    "                    step=0.1,\n",
    "                    description='values_range',\n",
    "                    disabled=False,\n",
    "                    orientation='horizontal',\n",
    "                    readout=True,\n",
    "                    readout_format='.1f')\n",
    "\n",
    "    \n",
    "    def layout(self):\n",
    "        tab = widgets.Tab()\n",
    "        tab.children = [self.tab_layout(col) for col in self.columns]\n",
    "        for num, col in enumerate(analysis_columns):\n",
    "            tab.set_title(num, col)\n",
    "        return tab\n",
    "    \n",
    "    def display(self):\n",
    "        display(self.layout())"
   ]
  },
  {
   "cell_type": "code",
   "execution_count": 49,
   "metadata": {},
   "outputs": [
    {
     "data": {
      "application/vnd.jupyter.widget-view+json": {
       "model_id": "e9ce4a0942864e64a326084819009d39",
       "version_major": 2,
       "version_minor": 0
      },
      "text/html": [
       "<p>Failed to display Jupyter Widget of type <code>Tab</code>.</p>\n",
       "<p>\n",
       "  If you're reading this message in the Jupyter Notebook or JupyterLab Notebook, it may mean\n",
       "  that the widgets JavaScript is still loading. If this message persists, it\n",
       "  likely means that the widgets JavaScript library is either not installed or\n",
       "  not enabled. See the <a href=\"https://ipywidgets.readthedocs.io/en/stable/user_install.html\">Jupyter\n",
       "  Widgets Documentation</a> for setup instructions.\n",
       "</p>\n",
       "<p>\n",
       "  If you're reading this message in another frontend (for example, a static\n",
       "  rendering on GitHub or <a href=\"https://nbviewer.jupyter.org/\">NBViewer</a>),\n",
       "  it may mean that your frontend doesn't currently support widgets.\n",
       "</p>\n"
      ],
      "text/plain": [
       "Tab(children=(FloatSlider(value=24368.0, description='values_range', max=46256.0, min=24368.0, readout_format='.1f'), FloatSlider(value=20150901.0, description='values_range', max=20150928.0, min=20150901.0, readout_format='.1f'), FloatSlider(value=1.0, description='values_range', max=1.0, readout_format='.1f'), FloatSlider(value=4.0, description='values_range', max=4.0, min=1.0, readout_format='.1f'), FloatSlider(value=3.0, description='values_range', max=3.0, readout_format='.1f'), FloatSlider(value=0.0, description='values_range', max=0.0, readout_format='.1f'), SelectMultiple(options=('chf', 'eur', 'rur', 'usd'), value=()), FloatSlider(value=7.5, description='values_range', max=3623.0, readout_format='.1f'), FloatSlider(value=7.5, description='values_range', max=9.0, readout_format='.1f'), FloatSlider(value=7.5, description='values_range', max=1485450.0, readout_format='.1f'), FloatSlider(value=7.5, description='values_range', max=20.0, readout_format='.1f'), FloatSlider(value=7.5, description='values_range', max=220000000.0, readout_format='.1f'), FloatSlider(value=7.5, description='values_range', max=14090162.0, min=-4084.0, readout_format='.1f'), FloatSlider(value=7.5, description='values_range', max=470000.0, readout_format='.1f'), FloatSlider(value=7.5, description='values_range', max=262648.0, readout_format='.1f'), FloatSlider(value=1.0, description='values_range', max=1.0, readout_format='.1f'), FloatSlider(value=7.5, description='values_range', max=99.0, readout_format='.1f'), FloatSlider(value=7.5, description='values_range', max=51.0, readout_format='.1f'), FloatSlider(value=7.5, description='values_range', max=49.0, readout_format='.1f'), FloatSlider(value=7.5, description='values_range', max=16.0, readout_format='.1f'), FloatSlider(value=7.5, description='values_range', max=10.0, readout_format='.1f'), FloatSlider(value=7.5, description='values_range', max=79.0, readout_format='.1f'), FloatSlider(value=1.0, description='values_range', max=1.0, readout_format='.1f'), FloatSlider(value=2.0, description='values_range', max=2.0, readout_format='.1f'), FloatSlider(value=2.0, description='values_range', max=2.0, readout_format='.1f'), FloatSlider(value=4.0, description='values_range', max=4.0, readout_format='.1f'), FloatSlider(value=6.0, description='values_range', max=6.0, readout_format='.1f'), FloatSlider(value=7.5, description='values_range', max=17.0, readout_format='.1f'), FloatSlider(value=7.5, description='values_range', max=41887828.0, readout_format='.1f')), _titles={'0': 'ID', '1': 'SK_DATE_DECISION', '2': 'DEF', '3': 'NUM_SOURCE', '4': 'CREDIT_ACTIVE', '5': 'CREDIT_COLLATERAL', '6': 'CREDIT_CURRENCY', '7': 'CREDIT_DAY_OVERDUE', '8': 'CREDIT_FACILITY', '9': 'AMT_CREDIT_MAX_OVERDUE', '10': 'CNT_CREDIT_PROLONG', '11': 'AMT_CREDIT_SUM', '12': 'AMT_CREDIT_SUM_DEBT', '13': 'AMT_CREDIT_SUM_LIMIT', '14': 'AMT_CREDIT_SUM_OVERDUE', '15': 'CREDIT_SUM_TYPE', '16': 'CREDIT_TYPE', '17': 'CREDIT_DELAY30', '18': 'CREDIT_DELAY5', '19': 'CREDIT_DELAY60', '20': 'CREDIT_DELAY90', '21': 'CREDIT_DELAY_MORE', '22': 'AMT_REQ_SOURCE_HOUR', '23': 'AMT_REQ_SOURCE_DAY', '24': 'AMT_REQ_SOURCE_WEEK', '25': 'AMT_REQ_SOURCE_MON', '26': 'AMT_REQ_SOURCE_QRT', '27': 'AMT_REQ_SOURCE_YEAR', '28': 'AMT_ANNUITY'})"
      ]
     },
     "metadata": {},
     "output_type": "display_data"
    }
   ],
   "source": [
    "main_layout = Layout(data, analysis_columns)\n",
    "main_layout.display()"
   ]
  }
 ],
 "metadata": {
  "kernelspec": {
   "display_name": "Python 3",
   "language": "python",
   "name": "python3"
  },
  "language_info": {
   "codemirror_mode": {
    "name": "ipython",
    "version": 3
   },
   "file_extension": ".py",
   "mimetype": "text/x-python",
   "name": "python",
   "nbconvert_exporter": "python",
   "pygments_lexer": "ipython3",
   "version": "3.6.4"
  }
 },
 "nbformat": 4,
 "nbformat_minor": 2
}

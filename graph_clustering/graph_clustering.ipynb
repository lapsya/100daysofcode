{
 "cells": [
  {
   "cell_type": "code",
   "execution_count": 229,
   "metadata": {},
   "outputs": [],
   "source": [
    "import numpy as np\n",
    "from numpy.linalg import eig, inv, eigh, norm\n",
    "\n",
    "import scipy as sc\n",
    "from scipy.linalg import sqrtm\n",
    "from scipy.spatial.distance import cdist\n",
    "\n",
    "from sklearn import metrics, datasets\n",
    "from sklearn.cluster import KMeans\n"
   ]
  },
  {
   "cell_type": "markdown",
   "metadata": {},
   "source": [
    "## Trying to write a KMeans clustering that would work with complex vectors"
   ]
  },
  {
   "cell_type": "code",
   "execution_count": 256,
   "metadata": {},
   "outputs": [],
   "source": [
    "class ComplexKMeans:\n",
    "    def __init__(self, k_clusters=2, n_iter=500):\n",
    "        self.k_clusters = k_clusters\n",
    "        self.n_iter = n_iter\n",
    "        self.is_fit = False\n",
    "    \n",
    "    distance_matrix = lambda self, x: np.array([[norm(vec - centroid) for centroid in self.centroids] for vec in x])\n",
    "    \n",
    "    def _assign_labels(self):\n",
    "        is_changed = False\n",
    "        for vec_num, vec_dists in enumerate(self.distances):\n",
    "            new_label = vec_dists.argmin()\n",
    "            if new_label != self.labels[vec_num]:\n",
    "                is_changed = True\n",
    "            self.labels[vec_num] = new_label\n",
    "        return is_changed\n",
    "    \n",
    "    def fit(self, x):\n",
    "        # initialize centroids and labels\n",
    "        self.centroids = x[:self.k_clusters]\n",
    "        self.labels = np.array([0] * len(x))\n",
    "        \n",
    "        for it in range(self.n_iter):\n",
    "            # calculate distances and assign centroids\n",
    "            self.distances = self.distance_matrix(x)\n",
    "            is_changed = self._assign_labels()\n",
    "            \n",
    "            if not is_changed:\n",
    "                self.is_fit = True\n",
    "                break\n",
    "            \"\"\"\n",
    "            print('---')\n",
    "            print('Step {}: '.format(it))\n",
    "            print('Labels: {}'.format(self.labels))\n",
    "            print('Distances: {}'.format(self.distances))\n",
    "            \"\"\"\n",
    "            \n",
    "            # recalculate centroids\n",
    "            for cl_num in range(self.k_clusters):\n",
    "                vecs = [vec for ind, vec in enumerate(x) if self.labels[ind] == cl_num]\n",
    "                self.centroids[cl_num] = np.average(vecs, axis=0)\n",
    "        \n",
    "        return self\n",
    "    \n",
    "    # not sure what I should do with these methods yet\n",
    "    def predict(self):\n",
    "        return self.labels\n",
    "    \n",
    "    def fit_predict(self, x):\n",
    "        self.fit(x)\n",
    "        return self.predict()"
   ]
  },
  {
   "cell_type": "markdown",
   "metadata": {},
   "source": [
    "### Testing it on the iris dataset\n",
    "\n",
    "Currently one of the points (`iris.data[50]`) gets a cluster label different from the `sklearn.cluster.KMeans` results"
   ]
  },
  {
   "cell_type": "code",
   "execution_count": 251,
   "metadata": {},
   "outputs": [],
   "source": [
    "iris = datasets.load_iris()"
   ]
  },
  {
   "cell_type": "code",
   "execution_count": 258,
   "metadata": {},
   "outputs": [],
   "source": [
    "iris_ckmeans = ComplexKMeans(k_clusters=3).fit(iris.data)\n",
    "ckmeans_labels = iris_ckmeans.labels\n",
    "\n",
    "iris_kmeans = KMeans(n_clusters=3).fit(iris.data)\n",
    "kmeans_labels = iris_kmeans.labels_"
   ]
  },
  {
   "cell_type": "code",
   "execution_count": 259,
   "metadata": {},
   "outputs": [
    {
     "name": "stdout",
     "output_type": "stream",
     "text": [
      "ComplexKMeans score: 0.6768052835197566\n",
      "KMeans score: 0.6907610401119466\n"
     ]
    }
   ],
   "source": [
    "print('ComplexKMeans score: {}'.format(metrics.adjusted_rand_score(iris.target, ckmeans_labels)))\n",
    "print('KMeans score: {}'.format(metrics.adjusted_rand_score(iris.target, kmeans_labels)))"
   ]
  },
  {
   "cell_type": "code",
   "execution_count": 261,
   "metadata": {},
   "outputs": [
    {
     "data": {
      "text/plain": [
       "array([2, 0, 1, 1, 1, 1, 1, 1, 1, 1, 1, 1, 1, 1, 1, 1, 1, 1, 1, 1, 1, 1,\n",
       "       1, 1, 1, 1, 1, 1, 1, 1, 1, 1, 1, 1, 1, 1, 1, 1, 1, 1, 1, 1, 1, 1,\n",
       "       1, 1, 1, 1, 1, 1, 2, 0, 2, 0, 0, 0, 0, 0, 0, 0, 0, 0, 0, 0, 0, 0,\n",
       "       0, 0, 0, 0, 0, 0, 0, 0, 0, 0, 0, 2, 0, 0, 0, 0, 0, 0, 0, 0, 0, 0,\n",
       "       0, 0, 0, 0, 0, 0, 0, 0, 0, 0, 0, 0, 2, 0, 2, 2, 2, 2, 0, 2, 2, 2,\n",
       "       2, 2, 2, 0, 0, 2, 2, 2, 2, 0, 2, 0, 2, 0, 2, 2, 0, 0, 2, 2, 2, 2,\n",
       "       2, 0, 2, 2, 2, 2, 0, 2, 2, 2, 0, 2, 2, 2, 0, 2, 2, 0])"
      ]
     },
     "execution_count": 261,
     "metadata": {},
     "output_type": "execute_result"
    }
   ],
   "source": [
    "permutation = {0: 2, 1: 0, 2: 1}\n",
    "np.array([permutation[i] for i in ckmeans_labels])"
   ]
  },
  {
   "cell_type": "code",
   "execution_count": 254,
   "metadata": {},
   "outputs": [
    {
     "data": {
      "text/plain": [
       "array([2, 0, 1, 1, 1, 1, 1, 1, 1, 1, 1, 1, 1, 1, 1, 1, 1, 1, 1, 1, 1, 1,\n",
       "       1, 1, 1, 1, 1, 1, 1, 1, 1, 1, 1, 1, 1, 1, 1, 1, 1, 1, 1, 1, 1, 1,\n",
       "       1, 1, 1, 1, 1, 1, 0, 0, 2, 0, 0, 0, 0, 0, 0, 0, 0, 0, 0, 0, 0, 0,\n",
       "       0, 0, 0, 0, 0, 0, 0, 0, 0, 0, 0, 2, 0, 0, 0, 0, 0, 0, 0, 0, 0, 0,\n",
       "       0, 0, 0, 0, 0, 0, 0, 0, 0, 0, 0, 0, 2, 0, 2, 2, 2, 2, 0, 2, 2, 2,\n",
       "       2, 2, 2, 0, 0, 2, 2, 2, 2, 0, 2, 0, 2, 0, 2, 2, 0, 0, 2, 2, 2, 2,\n",
       "       2, 0, 2, 2, 2, 2, 0, 2, 2, 2, 0, 2, 2, 2, 0, 2, 2, 0], dtype=int32)"
      ]
     },
     "execution_count": 254,
     "metadata": {},
     "output_type": "execute_result"
    }
   ],
   "source": [
    "kmeans_labels"
   ]
  },
  {
   "cell_type": "code",
   "execution_count": 263,
   "metadata": {},
   "outputs": [
    {
     "data": {
      "text/plain": [
       "[50]"
      ]
     },
     "execution_count": 263,
     "metadata": {},
     "output_type": "execute_result"
    }
   ],
   "source": [
    "[i for i, j in enumerate([k == permutation[l] for k, l in zip(kmeans_labels, ckmeans_labels)]) if j == False]"
   ]
  },
  {
   "cell_type": "code",
   "execution_count": 265,
   "metadata": {},
   "outputs": [
    {
     "data": {
      "text/plain": [
       "array([7. , 3.2, 4.7, 1.4])"
      ]
     },
     "execution_count": 265,
     "metadata": {},
     "output_type": "execute_result"
    }
   ],
   "source": [
    "iris.data[50]"
   ]
  },
  {
   "cell_type": "markdown",
   "metadata": {},
   "source": [
    "## Spectral clustering of the graph itself"
   ]
  },
  {
   "cell_type": "code",
   "execution_count": 266,
   "metadata": {},
   "outputs": [],
   "source": [
    "def spectral_clustering(adjacency):\n",
    "\n",
    "    adj_matrix = np.matrix(adjacency)\n",
    "\n",
    "    diag_degrees = np.diag([np.sum(i) for i in adj_matrix])\n",
    "    sqrt_diag_degrees = sqrtm(inv(diag_degrees))\n",
    "\n",
    "    laplacian = np.identity(len(adj_matrix)) - np.dot(np.dot(sqrt_diag_degrees, adj_matrix), sqrt_diag_degrees)\n",
    "    #laplacian = diag_degrees - adj_matrix\n",
    "    #laplacian = adj_matrix\n",
    "    \n",
    "    eigs = dict(zip(*eig(laplacian)))\n",
    "    # find max eigenvalues\n",
    "    eig_vals = list(eigs.keys())\n",
    "    max_eig_val = max(eig_vals, key=abs)\n",
    "    eig_vals.remove(max_eig_val)\n",
    "    max2_eig_val = max(eig_vals, key=abs)\n",
    "    \n",
    "    to_cluster = np.array(list(map(lambda vec: np.array(vec)[0], [eigs[max_eig_val], eigs[max2_eig_val]]))).transpose()\n",
    "    kmeans = KMeans(n_clusters=2, random_state=0).fit(to_cluster)\n",
    "    return kmeans.labels_"
   ]
  },
  {
   "cell_type": "code",
   "execution_count": 268,
   "metadata": {},
   "outputs": [],
   "source": [
    "l = 10\n",
    "cluster_size = int(l / 2)\n",
    "adjacency = np.array([[complex(1, 0)] * cluster_size + [complex(0, 0)] * cluster_size] * cluster_size +\n",
    "                        [[complex(0, 0)] * cluster_size + [complex(1, 0)] * cluster_size] * cluster_size)\n"
   ]
  },
  {
   "cell_type": "code",
   "execution_count": 269,
   "metadata": {},
   "outputs": [
    {
     "name": "stderr",
     "output_type": "stream",
     "text": [
      "/usr/local/lib/python3.6/site-packages/sklearn/utils/validation.py:433: ComplexWarning: Casting complex values to real discards the imaginary part\n",
      "  array = np.array(array, dtype=dtype, order=order, copy=copy)\n"
     ]
    },
    {
     "data": {
      "text/plain": [
       "0.09569377990430619"
      ]
     },
     "execution_count": 269,
     "metadata": {},
     "output_type": "execute_result"
    }
   ],
   "source": [
    "true_labels = [0] * cluster_size + [1] * cluster_size\n",
    "pred_labels = spectral_clustering(adjacency)\n",
    "\n",
    "metrics.adjusted_rand_score(true_labels, pred_labels)"
   ]
  }
 ],
 "metadata": {
  "kernelspec": {
   "display_name": "Python 3",
   "language": "python",
   "name": "python3"
  },
  "language_info": {
   "codemirror_mode": {
    "name": "ipython",
    "version": 3
   },
   "file_extension": ".py",
   "mimetype": "text/x-python",
   "name": "python",
   "nbconvert_exporter": "python",
   "pygments_lexer": "ipython3",
   "version": "3.6.4"
  }
 },
 "nbformat": 4,
 "nbformat_minor": 2
}

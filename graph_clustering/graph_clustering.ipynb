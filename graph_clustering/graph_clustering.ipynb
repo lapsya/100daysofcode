{
 "cells": [
  {
   "cell_type": "code",
   "execution_count": 57,
   "metadata": {},
   "outputs": [],
   "source": [
    "import numpy as np\n",
    "import scipy as sc\n",
    "from scipy.spatial.distance import cdist\n",
    "from sklearn.cluster import KMeans\n",
    "from sklearn import metrics"
   ]
  },
  {
   "cell_type": "code",
   "execution_count": 3,
   "metadata": {},
   "outputs": [],
   "source": [
    "from numpy.linalg import eig, inv, eigh\n",
    "from scipy.linalg import sqrtm"
   ]
  },
  {
   "cell_type": "code",
   "execution_count": 181,
   "metadata": {},
   "outputs": [],
   "source": [
    "class ComplexKMeans:\n",
    "    def __init__(self, k_clusters=2, n_iter=100, dist_fun=cdist):\n",
    "        self.k_clusters = k_clusters\n",
    "        self.n_iter = n_iter\n",
    "        self.is_fit = False\n",
    "        self.dist = dist_fun\n",
    "    \n",
    "    distance_matrix = lambda self, x: np.array([[self.dist(np.array([vec]), np.array([centroid])) for centroid in self.centroids] for vec in x])\n",
    "    \n",
    "    def _assign_labels(self):\n",
    "        for vec_num, vec_dists in enumerate(self.distances):\n",
    "            self.labels[vec_num] = vec_dists.argmin()\n",
    "            \n",
    "    \n",
    "    def fit(self, x):\n",
    "        # initialize centroids and labels\n",
    "        self.centroids = x[:self.k_clusters]\n",
    "        self.labels = np.array([0] * len(x))\n",
    "        \n",
    "        for it in range(self.n_iter):\n",
    "            # calculate distances and assign centroids\n",
    "            self.distances = self.distance_matrix(x)\n",
    "            self._assign_labels()\n",
    "            \n",
    "            # recalculate centroids\n",
    "            for cl_num in range(self.k_clusters):\n",
    "                vecs = [vec for ind, vec in enumerate(x) if self.labels[ind] == cl_num]\n",
    "                self.centroid = np.average(vecs, axis=0)\n",
    "        \n",
    "        # calculate final distances and labels\n",
    "        self.distances = self.distance_matrix(x)\n",
    "        self._assign_labels()\n",
    "        \n",
    "        self.is_fit = True\n",
    "                \n",
    "    def predict(self):\n",
    "        return self.labels\n",
    "    \n",
    "    def fit_predict(self, x):\n",
    "        self.fit(x)\n",
    "        return self.predict()"
   ]
  },
  {
   "cell_type": "code",
   "execution_count": 182,
   "metadata": {},
   "outputs": [
    {
     "name": "stderr",
     "output_type": "stream",
     "text": [
      "/usr/local/lib/python3.6/site-packages/numpy/core/numeric.py:581: ComplexWarning: Casting complex values to real discards the imaginary part\n",
      "  return array(a, dtype, copy=False, order='C', ndmin=1)\n"
     ]
    }
   ],
   "source": [
    "a = ComplexKMeans(k_clusters=2, n_iter=100)\n",
    "a.fit(adjacency)"
   ]
  },
  {
   "cell_type": "code",
   "execution_count": 180,
   "metadata": {},
   "outputs": [
    {
     "data": {
      "text/plain": [
       "array([0, 0, 0, 0, 0, 0, 0, 0, 0, 0, 0, 0, 0, 0, 0, 0, 0, 0, 0, 0, 0, 0,\n",
       "       0, 0, 0, 0, 0, 0, 0, 0, 0, 0, 0, 0, 0, 0, 0, 0, 0, 0, 0, 0, 0, 0,\n",
       "       0, 0, 0, 0, 0, 0, 0, 0, 0, 0, 0, 0, 0, 0, 0, 0, 0, 0, 0, 0, 0, 0,\n",
       "       0, 0, 0, 0, 0, 0, 0, 0, 0, 0, 0, 0, 0, 0, 0, 0, 0, 0, 0, 0, 0, 0,\n",
       "       0, 0, 0, 0, 0, 0, 0, 0, 0, 0, 0, 0])"
      ]
     },
     "execution_count": 180,
     "metadata": {},
     "output_type": "execute_result"
    }
   ],
   "source": [
    "a.predict()"
   ]
  },
  {
   "cell_type": "code",
   "execution_count": 157,
   "metadata": {},
   "outputs": [
    {
     "data": {
      "text/plain": [
       "2"
      ]
     },
     "execution_count": 157,
     "metadata": {},
     "output_type": "execute_result"
    }
   ],
   "source": [
    "np.array([adjacency[0]]).ndim"
   ]
  },
  {
   "cell_type": "code",
   "execution_count": 147,
   "metadata": {},
   "outputs": [],
   "source": [
    "def spectral_clustering(adjacency):\n",
    "\n",
    "    adj_matrix = np.matrix(adjacency)\n",
    "\n",
    "    diag_degrees = np.diag([np.sum(i) for i in adj_matrix])\n",
    "    sqrt_diag_degrees = sqrtm(inv(diag_degrees))\n",
    "\n",
    "    laplacian = np.identity(len(adj_matrix)) - np.dot(np.dot(sqrt_diag_degrees, adj_matrix), sqrt_diag_degrees)\n",
    "    #laplacian = diag_degrees - adj_matrix\n",
    "    #laplacian = adj_matrix\n",
    "    \n",
    "    eigs = dict(zip(*eig(laplacian)))\n",
    "    # find max eigenvalues\n",
    "    eig_vals = list(eigs.keys())\n",
    "    max_eig_val = max(eig_vals, key=abs)\n",
    "    eig_vals.remove(max_eig_val)\n",
    "    max2_eig_val = max(eig_vals, key=abs)\n",
    "    \n",
    "    to_cluster = np.array(list(map(lambda vec: np.array(vec)[0], [eigs[max_eig_val], eigs[max2_eig_val]]))).transpose()\n",
    "    print(cdist(cluster_size[0]))\n",
    "    kmeans = KMeans(n_clusters=2, random_state=0).fit(to_cluster)\n",
    "    return kmeans.labels_"
   ]
  },
  {
   "cell_type": "code",
   "execution_count": 152,
   "metadata": {},
   "outputs": [
    {
     "name": "stdout",
     "output_type": "stream",
     "text": [
      "[[ 0.        +0.00000000e+00j  0.        +0.00000000e+00j]\n",
      " [ 0.        +0.00000000e+00j  0.        +0.00000000e+00j]\n",
      " [ 0.        +0.00000000e+00j  0.        +0.00000000e+00j]\n",
      " [ 0.        +0.00000000e+00j  0.        +0.00000000e+00j]\n",
      " [ 0.        +0.00000000e+00j  0.        +0.00000000e+00j]\n",
      " [ 0.        +0.00000000e+00j  0.        +0.00000000e+00j]\n",
      " [-0.        +0.00000000e+00j -0.        +0.00000000e+00j]\n",
      " [-0.        +0.00000000e+00j -0.        +0.00000000e+00j]\n",
      " [ 0.        +0.00000000e+00j  0.        +0.00000000e+00j]\n",
      " [ 0.        +0.00000000e+00j  0.        +0.00000000e+00j]\n",
      " [ 0.        +0.00000000e+00j  0.        +0.00000000e+00j]\n",
      " [ 0.        -0.00000000e+00j  0.        -0.00000000e+00j]\n",
      " [-0.        +0.00000000e+00j -0.        +0.00000000e+00j]\n",
      " [ 0.        +0.00000000e+00j  0.        +0.00000000e+00j]\n",
      " [-0.        +0.00000000e+00j -0.        +0.00000000e+00j]\n",
      " [ 0.        +0.00000000e+00j  0.        +0.00000000e+00j]\n",
      " [ 0.        +0.00000000e+00j  0.        +0.00000000e+00j]\n",
      " [ 0.        +0.00000000e+00j  0.        +0.00000000e+00j]\n",
      " [ 0.        -0.00000000e+00j  0.        -0.00000000e+00j]\n",
      " [ 0.        +0.00000000e+00j  0.        +0.00000000e+00j]\n",
      " [ 0.        +0.00000000e+00j  0.        +0.00000000e+00j]\n",
      " [ 0.        +0.00000000e+00j  0.        +0.00000000e+00j]\n",
      " [ 0.        +0.00000000e+00j  0.        +0.00000000e+00j]\n",
      " [ 0.        +0.00000000e+00j  0.        +0.00000000e+00j]\n",
      " [-0.        +0.00000000e+00j -0.        +0.00000000e+00j]\n",
      " [-0.        +0.00000000e+00j -0.        +0.00000000e+00j]\n",
      " [ 0.        +0.00000000e+00j  0.        +0.00000000e+00j]\n",
      " [ 0.        +0.00000000e+00j  0.        +0.00000000e+00j]\n",
      " [-0.        +0.00000000e+00j -0.        +0.00000000e+00j]\n",
      " [ 0.        -0.00000000e+00j  0.        -0.00000000e+00j]\n",
      " [ 0.        +0.00000000e+00j  0.        +0.00000000e+00j]\n",
      " [-0.        +0.00000000e+00j -0.        +0.00000000e+00j]\n",
      " [ 0.        +0.00000000e+00j  0.        +0.00000000e+00j]\n",
      " [-0.        +0.00000000e+00j -0.        +0.00000000e+00j]\n",
      " [ 0.        +0.00000000e+00j  0.        +0.00000000e+00j]\n",
      " [ 0.        +0.00000000e+00j  0.        +0.00000000e+00j]\n",
      " [ 0.        -0.00000000e+00j  0.        -0.00000000e+00j]\n",
      " [ 0.        -0.00000000e+00j  0.        -0.00000000e+00j]\n",
      " [ 0.        +0.00000000e+00j  0.        +0.00000000e+00j]\n",
      " [-0.        +0.00000000e+00j -0.        +0.00000000e+00j]\n",
      " [ 0.        -0.00000000e+00j  0.        -0.00000000e+00j]\n",
      " [-0.        +0.00000000e+00j -0.        +0.00000000e+00j]\n",
      " [-0.        +0.00000000e+00j -0.        +0.00000000e+00j]\n",
      " [ 0.        +0.00000000e+00j  0.        +0.00000000e+00j]\n",
      " [-0.        +0.00000000e+00j -0.        +0.00000000e+00j]\n",
      " [ 0.        +0.00000000e+00j  0.        +0.00000000e+00j]\n",
      " [ 0.        +0.00000000e+00j  0.        +0.00000000e+00j]\n",
      " [-0.        +0.00000000e+00j -0.        +0.00000000e+00j]\n",
      " [ 0.        +0.00000000e+00j  0.        +0.00000000e+00j]\n",
      " [ 0.        +0.00000000e+00j  0.        +0.00000000e+00j]\n",
      " [ 0.14142136+0.00000000e+00j  0.14142136+0.00000000e+00j]\n",
      " [-0.02599259+0.00000000e+00j -0.02599259+0.00000000e+00j]\n",
      " [-0.0235295 +0.00000000e+00j -0.0235295 +0.00000000e+00j]\n",
      " [ 0.07508051+0.00000000e+00j  0.02241935+0.00000000e+00j]\n",
      " [-0.10544157+0.00000000e+00j -0.0775073 +0.00000000e+00j]\n",
      " [ 0.00877087+0.00000000e+00j -0.01657677+0.00000000e+00j]\n",
      " [-0.00569832+6.27899722e-03j -0.0425847 +1.53833292e-02j]\n",
      " [ 0.05143194+9.83107415e-03j -0.03534041-2.62455941e-02j]\n",
      " [-0.03263133-6.57322853e-02j -0.01173382+7.02491439e-03j]\n",
      " [ 0.12320214+3.10355663e-03j  0.03538302-6.20579249e-03j]\n",
      " [ 0.12060685+5.42373588e-02j -0.07867727-2.75998859e-02j]\n",
      " [ 0.04710093-3.65849621e-02j  0.0048763 +4.88225256e-02j]\n",
      " [-0.30407459+9.73032292e-05j  0.10982851-1.80348774e-04j]\n",
      " [-0.00826018+1.19999787e-02j  0.04354295-5.82458443e-04j]\n",
      " [ 0.00707097+1.70960633e-03j  0.35334727-4.00002353e-03j]\n",
      " [ 0.00879057+4.77823070e-04j -0.01319012-1.17849394e-03j]\n",
      " [ 0.23825708+8.13163847e-03j -0.03908663+2.55678530e-03j]\n",
      " [ 0.03755503+9.22988339e-03j  0.00998572-3.28721175e-02j]\n",
      " [-0.10283106-1.01228000e-04j -0.09060664-2.42398244e-03j]\n",
      " [ 0.09585584+1.71807664e-02j  0.06093804+4.50453002e-03j]\n",
      " [-0.06386691-4.03303883e-03j  0.34303031+8.34485522e-03j]\n",
      " [ 0.01727278-5.44761118e-04j  0.0325492 +7.92977598e-04j]\n",
      " [-0.04773045+7.07071875e-04j -0.01394776-4.08525940e-03j]\n",
      " [-0.175087  +1.77532235e-02j  0.02135037+3.19254589e-02j]\n",
      " [-0.05120024-2.72464506e-02j -0.07415063-2.35389635e-02j]\n",
      " [-0.01260855-3.84018221e-03j  0.06415566-4.69257883e-03j]\n",
      " [ 0.02220576-2.58563824e-02j -0.08797335-9.27958853e-02j]\n",
      " [-0.21383711-3.62159867e-03j  0.03057689+1.62425157e-02j]\n",
      " [ 0.04865035-3.32414604e-03j -0.11252884-3.95657323e-02j]\n",
      " [-0.06268175+2.42270138e-03j  0.0542077 +6.30100395e-04j]\n",
      " [ 0.17676565+1.06832443e-02j  0.02529976-3.38985571e-03j]\n",
      " [-0.01239733+1.05259052e-03j -0.11053604-3.20325930e-02j]\n",
      " [ 0.19139687-6.24937842e-02j -0.05526788+3.13894807e-03j]\n",
      " [ 0.1588947 +1.72966357e-02j -0.00547798-1.01220544e-02j]\n",
      " [-0.13733709+5.93110453e-03j  0.02208678-1.90823655e-03j]\n",
      " [ 0.00686554+6.45458205e-03j  0.0488176 -8.60234999e-05j]\n",
      " [ 0.01706237-1.02974833e-02j  0.03990108+1.61165121e-02j]\n",
      " [ 0.06577348-2.42950502e-03j -0.09534208+3.67029141e-02j]\n",
      " [ 0.11028649-6.40508087e-02j -0.04441385-1.57160881e-02j]\n",
      " [ 0.01892022+5.60889029e-03j  0.05050356+2.46728958e-03j]\n",
      " [ 0.20365573+7.74706273e-03j  0.02599559-3.82649796e-03j]\n",
      " [ 0.14957307-1.12390247e-01j -0.00879308-8.18650613e-02j]\n",
      " [-0.00818976-3.08348888e-02j  0.09748249+2.55507118e-02j]\n",
      " [ 0.10575731-2.48658137e-03j  0.01520788-8.01036989e-03j]\n",
      " [-0.07385967-1.40350007e-02j  0.07113966-2.60776723e-02j]\n",
      " [ 0.06993732+1.59915464e-03j  0.02833804-6.67470737e-02j]\n",
      " [ 0.05017897+9.90214051e-03j  0.03526688+3.80908777e-03j]\n",
      " [-0.00814754-2.42867689e-03j  0.05591763+1.21369378e-03j]\n",
      " [ 0.19275076-5.82782316e-02j -0.04686582+5.70927906e-03j]\n",
      " [-0.20194678+3.21187350e-03j  0.00739775+2.99303533e-02j]]\n"
     ]
    },
    {
     "name": "stderr",
     "output_type": "stream",
     "text": [
      "/usr/local/lib/python3.6/site-packages/sklearn/utils/validation.py:433: ComplexWarning: Casting complex values to real discards the imaginary part\n",
      "  array = np.array(array, dtype=dtype, order=order, copy=copy)\n"
     ]
    },
    {
     "data": {
      "text/plain": [
       "0.0974991468824648"
      ]
     },
     "execution_count": 152,
     "metadata": {},
     "output_type": "execute_result"
    }
   ],
   "source": [
    "true_labels = [0] * int(l / 2) + [1] * int(l / 2)\n",
    "pred_labels = spectral_clustering(adjacency)\n",
    "\n",
    "metrics.adjusted_rand_score(true_labels, pred_labels)"
   ]
  },
  {
   "cell_type": "code",
   "execution_count": 151,
   "metadata": {},
   "outputs": [],
   "source": [
    "adjacency = np.array([[complex(1, 0)] * cluster_size + [complex(0, 0)] * cluster_size] * cluster_size +\n",
    "                        [[complex(0, 0)] * cluster_size + [complex(1, 0)] * cluster_size] * cluster_size)\n"
   ]
  },
  {
   "cell_type": "code",
   "execution_count": 150,
   "metadata": {
    "scrolled": true
   },
   "outputs": [],
   "source": [
    "l = 100\n",
    "adjacency = []\n",
    "cluster_size = int(l / 2)\n",
    "for i in range(l):\n",
    "    if i < l / 2:\n",
    "        adjacency.append([1] * cluster_size + [0] * cluster_size)\n",
    "    else:\n",
    "        adjacency.append([0] * cluster_size + [1] * cluster_size)\n",
    "adjacency = np.array(adjacency)"
   ]
  },
  {
   "cell_type": "code",
   "execution_count": 37,
   "metadata": {},
   "outputs": [
    {
     "data": {
      "text/plain": [
       "array([0, 0, 0, 0, 0, 0, 0, 0, 0, 0, 0, 0, 0, 0, 0, 0, 0, 0, 0, 0, 0, 0,\n",
       "       0, 0, 0, 0, 0, 0, 0, 0, 0, 0, 0, 0, 0, 0, 0, 0, 0, 0, 0, 0, 0, 0,\n",
       "       0, 0, 0, 0, 0, 0, 0, 0, 0, 0, 0, 0, 0, 0, 0, 0, 0, 0, 0, 0, 0, 0,\n",
       "       0, 0, 0, 0, 0, 0, 0, 0, 0, 0, 0, 0, 0, 0, 0, 0, 0, 0, 0, 0, 0, 0,\n",
       "       0, 0, 0, 0, 0, 0, 0, 0, 0, 0, 0, 0, 0, 0, 0, 0, 0, 0, 0, 0, 0, 0,\n",
       "       0, 0, 0, 0, 0, 0, 0, 0, 0, 0, 0, 0, 0, 0, 0, 0, 0, 0, 0, 0, 0, 0,\n",
       "       0, 0, 0, 0, 0, 0, 0, 0, 0, 0, 0, 0, 0, 0, 0, 0, 0, 0, 0, 0, 0, 0,\n",
       "       0, 0, 0, 0, 0, 0, 0, 0, 0, 0, 0, 0, 0, 0, 0, 0, 0, 0, 0, 0, 0, 0,\n",
       "       0, 0, 0, 0, 0, 0, 0, 0, 0, 0, 0, 0, 0, 0, 0, 0, 0, 0, 0, 0, 0, 0,\n",
       "       0, 0, 0, 0, 0, 0, 0, 0, 0, 0, 0, 0, 0, 0, 0, 0, 0, 0, 0, 0, 0, 0,\n",
       "       0, 0, 0, 0, 0, 0, 0, 0, 0, 0, 0, 0, 0, 0, 0, 0, 0, 0, 0, 0, 0, 0,\n",
       "       0, 0, 0, 0, 0, 0, 0, 0, 0, 0, 0, 0, 0, 0, 0, 0, 0, 0, 0, 0, 0, 0,\n",
       "       0, 0, 0, 0, 0, 0, 0, 0, 0, 0, 0, 0, 0, 0, 0, 0, 0, 0, 0, 0, 0, 0,\n",
       "       0, 0, 0, 0, 0, 0, 0, 0, 0, 0, 0, 0, 0, 0, 0, 0, 0, 0, 0, 0, 0, 0,\n",
       "       0, 0, 0, 0, 0, 0, 0, 0, 0, 0, 0, 0, 0, 0, 0, 0, 0, 0, 0, 0, 0, 0,\n",
       "       0, 0, 0, 0, 0, 0, 0, 0, 0, 0, 0, 0, 0, 0, 0, 0, 0, 0, 0, 0, 0, 0,\n",
       "       0, 0, 0, 0, 0, 0, 0, 0, 0, 0, 0, 0, 0, 0, 0, 0, 0, 0, 0, 0, 0, 0,\n",
       "       0, 0, 0, 0, 0, 0, 0, 0, 0, 0, 0, 0, 0, 0, 0, 0, 0, 0, 0, 0, 0, 0,\n",
       "       0, 0, 0, 0, 0, 0, 0, 0, 0, 0, 0, 0, 0, 0, 0, 0, 0, 0, 0, 0, 0, 0,\n",
       "       0, 0, 0, 0, 0, 0, 0, 0, 0, 0, 0, 0, 0, 0, 0, 0, 0, 0, 0, 0, 0, 0,\n",
       "       0, 0, 0, 0, 0, 0, 0, 0, 0, 0, 0, 0, 0, 0, 0, 0, 0, 0, 0, 0, 0, 0,\n",
       "       0, 0, 0, 0, 0, 0, 0, 0, 0, 0, 0, 0, 0, 0, 0, 0, 0, 0, 0, 0, 0, 0,\n",
       "       0, 0, 0, 0, 0, 0, 0, 0, 0, 0, 0, 0, 0, 0, 0, 0, 0, 0, 1, 1, 0, 0,\n",
       "       0, 0, 0, 0, 0, 0, 0, 0, 0, 0, 0, 0, 0, 0, 0, 0, 0, 0, 0, 0, 0, 0,\n",
       "       0, 0, 0, 0, 0, 0, 0, 0, 0, 0, 0, 0, 0, 0, 0, 0, 0, 0, 0, 0, 0, 0,\n",
       "       0, 0, 0, 0, 0, 0, 0, 0, 0, 0, 0, 0, 0, 0, 0, 0, 0, 0, 0, 0, 0, 0,\n",
       "       0, 0, 0, 0, 0, 0, 0, 0, 0, 0, 0, 0, 0, 0, 0, 0, 0, 0, 0, 0, 0, 0,\n",
       "       0, 0, 0, 0, 0, 0, 0, 0, 0, 0, 0, 0, 0, 0, 0, 0, 0, 0, 0, 0, 0, 0,\n",
       "       0, 0, 0, 0, 0, 0, 0, 0, 0, 0, 0, 0, 0, 0, 0, 0, 0, 0, 0, 0, 0, 0,\n",
       "       0, 0, 0, 0, 0, 0, 0, 0, 0, 0, 0, 0, 0, 0, 0, 0, 0, 0, 0, 0, 0, 0,\n",
       "       0, 0, 0, 0, 0, 0, 0, 0, 0, 0, 0, 0, 0, 0, 0, 0, 0, 0, 0, 0, 0, 0,\n",
       "       0, 0, 0, 0, 0, 0, 0, 0, 0, 0, 0, 0, 0, 0, 0, 0, 0, 0, 0, 0, 0, 0,\n",
       "       0, 0, 0, 0, 0, 0, 0, 0, 0, 0, 0, 0, 0, 0, 0, 0, 0, 0, 0, 0, 0, 0,\n",
       "       0, 0, 0, 0, 0, 0, 0, 0, 0, 0, 0, 0, 0, 0, 0, 0, 0, 0, 0, 0, 0, 0,\n",
       "       0, 0, 0, 0, 0, 0, 0, 0, 0, 0, 0, 0, 0, 0, 0, 0, 0, 0, 0, 0, 0, 0,\n",
       "       0, 0, 0, 0, 0, 0, 0, 0, 0, 0, 0, 0, 0, 0, 0, 0, 0, 0, 0, 0, 0, 0,\n",
       "       0, 0, 0, 0, 0, 0, 0, 0, 0, 0, 0, 0, 0, 0, 0, 0, 0, 0, 0, 0, 0, 0,\n",
       "       0, 0, 0, 0, 0, 0, 0, 0, 0, 0, 0, 0, 0, 0, 0, 0, 0, 0, 0, 0, 0, 0,\n",
       "       0, 0, 0, 0, 0, 0, 0, 0, 0, 0, 0, 0, 0, 0, 0, 0, 0, 0, 0, 0, 0, 0,\n",
       "       0, 0, 0, 0, 0, 0, 0, 0, 0, 0, 0, 0, 0, 0, 0, 0, 0, 0, 0, 0, 0, 0,\n",
       "       0, 0, 0, 0, 0, 0, 0, 0, 0, 0, 0, 0, 0, 0, 0, 0, 0, 0, 0, 0, 0, 0,\n",
       "       0, 0, 0, 0, 0, 0, 0, 0, 0, 0, 0, 0, 0, 0, 0, 0, 0, 0, 0, 0, 0, 0,\n",
       "       0, 0, 0, 0, 0, 0, 0, 0, 0, 0, 0, 0, 0, 0, 0, 0, 0, 0, 0, 0, 0, 0,\n",
       "       0, 0, 0, 0, 0, 0, 0, 0, 0, 0, 0, 0, 0, 0, 0, 0, 0, 0, 0, 0, 0, 0,\n",
       "       0, 0, 0, 0, 0, 0, 0, 0, 0, 0, 0, 0, 0, 0, 0, 0, 0, 0, 0, 0, 0, 0,\n",
       "       0, 0, 0, 0, 0, 0, 0, 0, 0, 0], dtype=int32)"
      ]
     },
     "execution_count": 37,
     "metadata": {},
     "output_type": "execute_result"
    }
   ],
   "source": [
    "pred_labels"
   ]
  }
 ],
 "metadata": {
  "kernelspec": {
   "display_name": "Python 3",
   "language": "python",
   "name": "python3"
  },
  "language_info": {
   "codemirror_mode": {
    "name": "ipython",
    "version": 3
   },
   "file_extension": ".py",
   "mimetype": "text/x-python",
   "name": "python",
   "nbconvert_exporter": "python",
   "pygments_lexer": "ipython3",
   "version": "3.6.4"
  }
 },
 "nbformat": 4,
 "nbformat_minor": 2
}

{
 "cells": [
  {
   "cell_type": "code",
   "execution_count": 59,
   "metadata": {},
   "outputs": [],
   "source": [
    "import numpy as np\n",
    "import scipy as sc\n",
    "from sklearn.cluster import KMeans\n",
    "from sklearn import metrics"
   ]
  },
  {
   "cell_type": "code",
   "execution_count": 5,
   "metadata": {},
   "outputs": [],
   "source": [
    "from numpy.linalg import eig, inv, eigh\n",
    "from scipy.linalg import sqrtm"
   ]
  },
  {
   "cell_type": "code",
   "execution_count": 65,
   "metadata": {},
   "outputs": [],
   "source": [
    "def spectral_clustering(adjacency):\n",
    "\n",
    "    adj_matrix = np.matrix(adjacency)\n",
    "\n",
    "    diag_degrees = np.diag([np.sum(i) for i in adj_matrix])\n",
    "    sqrt_diag_degrees = sqrtm(inv(diag_degrees))\n",
    "\n",
    "    laplacian = np.identity(len(adjacency)) - np.dot(np.dot(sqrt_diag_degrees, adj_matrix), sqrt_diag_degrees)\n",
    "    #laplacian = diag_degrees - adj_matrix\n",
    "    #laplacian = adj_matrix\n",
    "    \n",
    "    eig_vals, eig_vecs = eig(laplacian)\n",
    "\n",
    "    eig_vals_list = list(eig_vals)\n",
    "    max_eig_val_ind = eig_vals_list.index(max(eig_vals_list))\n",
    "    max2 = min(eig_vals_list[:max_eig_val_ind] + eig_vals_list[max_eig_val_ind + 1:])\n",
    "    max2_eig_val_ind = eig_vals_list.index(max2)\n",
    "\n",
    "    to_cluster = np.concatenate([eig_vecs[max_eig_val_ind], eig_vecs[max2_eig_val_ind]]).transpose()\n",
    "    kmeans = KMeans(n_clusters=2, random_state=0).fit(to_cluster)\n",
    "    return kmeans.labels_"
   ]
  },
  {
   "cell_type": "code",
   "execution_count": 68,
   "metadata": {
    "scrolled": true
   },
   "outputs": [],
   "source": [
    "l = 1000\n",
    "adjacency = []\n",
    "for i in range(l):\n",
    "    if i < l / 2:\n",
    "        adjacency.append([1] * int(l / 2) + [0] * int(l / 2))\n",
    "    else:\n",
    "        adjacency.append([0] * int(l / 2) + [1] * int(l / 2))\n",
    "adjacency = np.matrix(adjacency)"
   ]
  },
  {
   "cell_type": "code",
   "execution_count": 69,
   "metadata": {},
   "outputs": [
    {
     "name": "stderr",
     "output_type": "stream",
     "text": [
      "/usr/local/lib/python3.6/site-packages/sklearn/utils/validation.py:433: ComplexWarning: Casting complex values to real discards the imaginary part\n",
      "  array = np.array(array, dtype=dtype, order=order, copy=copy)\n"
     ]
    },
    {
     "data": {
      "text/plain": [
       "0.053435353252708415"
      ]
     },
     "execution_count": 69,
     "metadata": {},
     "output_type": "execute_result"
    }
   ],
   "source": [
    "true_labels = [0] * int(l / 2) + [1] * int(l / 2)\n",
    "pred_labels = spectral_clustering(adjacency)\n",
    "\n",
    "metrics.adjusted_rand_score(true_labels, pred_labels)"
   ]
  }
 ],
 "metadata": {
  "kernelspec": {
   "display_name": "Python 3",
   "language": "python",
   "name": "python3"
  },
  "language_info": {
   "codemirror_mode": {
    "name": "ipython",
    "version": 3
   },
   "file_extension": ".py",
   "mimetype": "text/x-python",
   "name": "python",
   "nbconvert_exporter": "python",
   "pygments_lexer": "ipython3",
   "version": "3.6.4"
  }
 },
 "nbformat": 4,
 "nbformat_minor": 2
}

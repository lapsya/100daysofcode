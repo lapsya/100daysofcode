{
 "cells": [
  {
   "cell_type": "code",
   "execution_count": 333,
   "metadata": {},
   "outputs": [],
   "source": [
    "import random\n",
    "\n",
    "\n",
    "import numpy as np\n",
    "from numpy.linalg import eig, inv, eigh, norm\n",
    "\n",
    "import scipy as sc\n",
    "from scipy.linalg import sqrtm\n",
    "from scipy.spatial.distance import cdist\n",
    "\n",
    "from sklearn import metrics, datasets\n",
    "from sklearn.cluster import KMeans, SpectralClustering\n",
    "\n",
    "import matplotlib.pyplot as plt"
   ]
  },
  {
   "cell_type": "markdown",
   "metadata": {},
   "source": [
    "## Trying to write a KMeans clustering that would work with complex vectors"
   ]
  },
  {
   "cell_type": "code",
   "execution_count": 245,
   "metadata": {},
   "outputs": [],
   "source": [
    "class ComplexKMeans:\n",
    "    def __init__(self, k_clusters=2, n_iter=500, random_seed=None):\n",
    "        self.k_clusters = k_clusters\n",
    "        self.n_iter = n_iter\n",
    "        self.is_fit = False\n",
    "        self.random_seed = random_seed\n",
    "    \n",
    "    distance_matrix = lambda self, x: np.array([[norm(vec - centroid) for centroid in self.centroids] for vec in x])\n",
    "    \n",
    "    def _assign_labels(self):\n",
    "        is_changed = False\n",
    "        for vec_num, vec_dists in enumerate(self.distances):\n",
    "            new_label = vec_dists.argmin()\n",
    "            if new_label != self.labels[vec_num]:\n",
    "                is_changed = True\n",
    "            self.labels[vec_num] = new_label\n",
    "        return is_changed\n",
    "    \n",
    "    def fit(self, x):\n",
    "        # initialize centroids and labels\n",
    "        random.seed(self.random_seed)\n",
    "        uniques = np.unique(x, axis=0)\n",
    "        self.centroids = uniques[random.sample(range(len(uniques)), self.k_clusters)]\n",
    "        #print(self.centroids)\n",
    "        self.labels = np.array([0] * len(x))\n",
    "        \n",
    "        for it in range(self.n_iter):\n",
    "            # calculate distances and assign centroids\n",
    "            self.distances = self.distance_matrix(x)\n",
    "            is_changed = self._assign_labels()\n",
    "            \n",
    "            if not is_changed:\n",
    "                self.is_fit = True\n",
    "                break\n",
    "            \"\"\"\n",
    "            print('---')\n",
    "            print('Step {}: '.format(it))\n",
    "            print('Labels: {}'.format(self.labels))\n",
    "            print('Distances: {}'.format(self.distances))\n",
    "            \"\"\"\n",
    "            \n",
    "            # recalculate centroids\n",
    "            for cl_num in range(self.k_clusters):\n",
    "                vecs = [vec for ind, vec in enumerate(x) if self.labels[ind] == cl_num]\n",
    "                self.centroids[cl_num] = np.average(vecs, axis=0)\n",
    "        \n",
    "        return self\n",
    "    \n",
    "    # not sure what I should do with these methods yet\n",
    "    def predict(self):\n",
    "        return self.labels\n",
    "    \n",
    "    def fit_predict(self, x):\n",
    "        self.fit(x)\n",
    "        return self.predict()"
   ]
  },
  {
   "cell_type": "code",
   "execution_count": 329,
   "metadata": {},
   "outputs": [],
   "source": [
    "def best_kmeans_choice(kmeans, data, n_iter=100):\n",
    "    results = {}\n",
    "    for it in range(n_iter):\n",
    "        fitted_kmeans = kmeans.fit(data)\n",
    "        metric = np.average([[norm(vec - centroid) for c_ind, centroid in enumerate(fitted_kmeans.centroids) if fitted_kmeans.labels[v_ind] == c_ind] for v_ind, vec in enumerate(data)])\n",
    "        results[metric] = fitted_kmeans\n",
    "    print(min(results))\n",
    "    return results[min(results)]"
   ]
  },
  {
   "cell_type": "markdown",
   "metadata": {},
   "source": [
    "### Testing it on the iris dataset\n",
    "\n",
    "Currently one of the points (`iris.data[50]`) gets a cluster label different from the `sklearn.cluster.KMeans` results"
   ]
  },
  {
   "cell_type": "code",
   "execution_count": 3,
   "metadata": {},
   "outputs": [],
   "source": [
    "iris = datasets.load_iris()"
   ]
  },
  {
   "cell_type": "code",
   "execution_count": 116,
   "metadata": {},
   "outputs": [],
   "source": [
    "complexify_2d = lambda data: np.array([list(map(lambda x: complex(float(x), 0), data[i])) for i in range(len(data))])"
   ]
  },
  {
   "cell_type": "code",
   "execution_count": 298,
   "metadata": {},
   "outputs": [
    {
     "name": "stdout",
     "output_type": "stream",
     "text": [
      "99\n"
     ]
    }
   ],
   "source": [
    "iris_ckmeans = best_kmeans_choice(ComplexKMeans(k_clusters=3), iris.data)\n",
    "ckmeans_labels = iris_ckmeans.labels\n",
    "\n",
    "iris_kmeans = KMeans(n_clusters=3).fit(iris.data)\n",
    "kmeans_labels = iris_kmeans.labels_"
   ]
  },
  {
   "cell_type": "code",
   "execution_count": 225,
   "metadata": {},
   "outputs": [
    {
     "name": "stdout",
     "output_type": "stream",
     "text": [
      "ComplexKMeans score: 0.6907610401119466\n",
      "KMeans score: 0.6907610401119466\n"
     ]
    }
   ],
   "source": [
    "print('ComplexKMeans score: {}'.format(metrics.adjusted_rand_score(iris.target, ckmeans_labels)))\n",
    "print('KMeans score: {}'.format(metrics.adjusted_rand_score(iris.target, kmeans_labels)))"
   ]
  },
  {
   "cell_type": "code",
   "execution_count": 228,
   "metadata": {},
   "outputs": [
    {
     "data": {
      "text/plain": [
       "array([0, 2, 1, 1, 1, 1, 1, 1, 1, 1, 1, 1, 1, 1, 1, 1, 1, 1, 1, 1, 1, 1,\n",
       "       1, 1, 1, 1, 1, 1, 1, 1, 1, 1, 1, 1, 1, 1, 1, 1, 1, 1, 1, 1, 1, 1,\n",
       "       1, 1, 1, 1, 1, 1, 2, 2, 0, 2, 2, 2, 2, 2, 2, 2, 2, 2, 2, 2, 2, 2,\n",
       "       2, 2, 2, 2, 2, 2, 2, 2, 2, 2, 2, 0, 2, 2, 2, 2, 2, 2, 2, 2, 2, 2,\n",
       "       2, 2, 2, 2, 2, 2, 2, 2, 2, 2, 2, 2, 0, 2, 0, 0, 0, 0, 2, 0, 0, 0,\n",
       "       0, 0, 0, 2, 2, 0, 0, 0, 0, 2, 0, 2, 0, 2, 0, 0, 2, 2, 0, 0, 0, 0,\n",
       "       0, 2, 0, 0, 0, 0, 2, 0, 0, 0, 2, 0, 0, 0, 2, 0, 0, 2])"
      ]
     },
     "execution_count": 228,
     "metadata": {},
     "output_type": "execute_result"
    }
   ],
   "source": [
    "permutation = {0: 2, 1: 1, 2: 0}\n",
    "np.array([permutation[i] for i in ckmeans_labels])"
   ]
  },
  {
   "cell_type": "code",
   "execution_count": 227,
   "metadata": {},
   "outputs": [
    {
     "data": {
      "text/plain": [
       "array([0, 2, 1, 1, 1, 1, 1, 1, 1, 1, 1, 1, 1, 1, 1, 1, 1, 1, 1, 1, 1, 1,\n",
       "       1, 1, 1, 1, 1, 1, 1, 1, 1, 1, 1, 1, 1, 1, 1, 1, 1, 1, 1, 1, 1, 1,\n",
       "       1, 1, 1, 1, 1, 1, 2, 2, 0, 2, 2, 2, 2, 2, 2, 2, 2, 2, 2, 2, 2, 2,\n",
       "       2, 2, 2, 2, 2, 2, 2, 2, 2, 2, 2, 0, 2, 2, 2, 2, 2, 2, 2, 2, 2, 2,\n",
       "       2, 2, 2, 2, 2, 2, 2, 2, 2, 2, 2, 2, 0, 2, 0, 0, 0, 0, 2, 0, 0, 0,\n",
       "       0, 0, 0, 2, 2, 0, 0, 0, 0, 2, 0, 2, 0, 2, 0, 0, 2, 2, 0, 0, 0, 0,\n",
       "       0, 2, 0, 0, 0, 0, 2, 0, 0, 0, 2, 0, 0, 0, 2, 0, 0, 2], dtype=int32)"
      ]
     },
     "execution_count": 227,
     "metadata": {},
     "output_type": "execute_result"
    }
   ],
   "source": [
    "kmeans_labels"
   ]
  },
  {
   "cell_type": "code",
   "execution_count": 229,
   "metadata": {},
   "outputs": [
    {
     "data": {
      "text/plain": [
       "[]"
      ]
     },
     "execution_count": 229,
     "metadata": {},
     "output_type": "execute_result"
    }
   ],
   "source": [
    "[i for i, j in enumerate([k == permutation[l] for k, l in zip(kmeans_labels, ckmeans_labels)]) if j == False]"
   ]
  },
  {
   "cell_type": "code",
   "execution_count": 75,
   "metadata": {},
   "outputs": [
    {
     "data": {
      "text/plain": [
       "array([7. , 3.2, 4.7, 1.4])"
      ]
     },
     "execution_count": 75,
     "metadata": {},
     "output_type": "execute_result"
    }
   ],
   "source": [
    "iris.data[50]"
   ]
  },
  {
   "cell_type": "code",
   "execution_count": 207,
   "metadata": {},
   "outputs": [
    {
     "data": {
      "text/plain": [
       "array([[5.90132731, 2.74826934, 4.39346548, 1.43387562],\n",
       "       [6.85008133, 3.07376241, 5.74140944, 2.07061647],\n",
       "       [5.01276596, 3.42978723, 1.47021277, 0.24680851]])"
      ]
     },
     "execution_count": 207,
     "metadata": {},
     "output_type": "execute_result"
    }
   ],
   "source": [
    "iris_ckmeans.centroids"
   ]
  },
  {
   "cell_type": "code",
   "execution_count": 208,
   "metadata": {},
   "outputs": [
    {
     "data": {
      "text/plain": [
       "array([[6.85008133, 3.07376241, 5.74140944, 2.07061647],\n",
       "       [5.01276596, 3.42978723, 1.47021277, 0.24680851],\n",
       "       [5.90132731, 2.74826934, 4.39346548, 1.43387562]])"
      ]
     },
     "execution_count": 208,
     "metadata": {},
     "output_type": "execute_result"
    }
   ],
   "source": [
    "iris_kmeans.cluster_centers_"
   ]
  },
  {
   "cell_type": "markdown",
   "metadata": {},
   "source": [
    "## Spectral clustering of the graph itself"
   ]
  },
  {
   "cell_type": "code",
   "execution_count": 328,
   "metadata": {},
   "outputs": [],
   "source": [
    "def spectral_clustering(adjacency):\n",
    "\n",
    "    adj_matrix = np.matrix(adjacency)\n",
    "\n",
    "    diag_degrees = np.diag([np.sum(i) for i in adj_matrix])\n",
    "    sqrt_diag_degrees = sqrtm(inv(diag_degrees))\n",
    "\n",
    "    laplacian = np.identity(len(adj_matrix)) - np.dot(np.dot(sqrt_diag_degrees, adj_matrix), sqrt_diag_degrees)\n",
    "    #laplacian = diag_degrees - adj_matrix\n",
    "    #laplacian = adj_matrix\n",
    "    \n",
    "    vals, vecs = eig(laplacian)\n",
    "    vecs = vecs.transpose()\n",
    "    #print(vals)\n",
    "    \n",
    "    # dict of eigen_value: eigen_vector\n",
    "    eigs = dict(zip(vals, vecs))\n",
    "    # find max eigenvalues\n",
    "    eig_vals = list(eigs.keys())\n",
    "    max_eig_val = max(eig_vals, key=abs)\n",
    "    eig_vals.remove(max_eig_val)\n",
    "    max2_eig_val = max(eig_vals, key=abs)\n",
    "    \n",
    "    to_cluster = np.array(list(map(lambda vec: np.array(vec)[0], [eigs[max_eig_val], eigs[max2_eig_val]]))).transpose()\n",
    "    #kmeans = KMeans(n_clusters=2, random_state=0).fit(to_cluster)\n",
    "    #print(\"To cluster: \")\n",
    "    #print(to_cluster)\n",
    "    ckmeans = best_kmeans_choice(ComplexKMeans(k_clusters=2), to_cluster)\n",
    "    print(\"Final centroids: \")\n",
    "    print(ckmeans.centroids)\n",
    "    return ckmeans.labels"
   ]
  },
  {
   "cell_type": "code",
   "execution_count": 320,
   "metadata": {},
   "outputs": [],
   "source": [
    "l = 100\n",
    "cluster_size = int(l / 2)\n",
    "adjacency = np.array([[1] * cluster_size + [0] * cluster_size] * cluster_size +\n",
    "                        [[0] * cluster_size + [1] * cluster_size] * cluster_size)"
   ]
  },
  {
   "cell_type": "code",
   "execution_count": 332,
   "metadata": {},
   "outputs": [
    {
     "name": "stdout",
     "output_type": "stream",
     "text": [
      "0.05533532753788884\n",
      "Final centroids: \n",
      "[[ 0.00359287+0.j  0.02591154+0.j]\n",
      " [-0.0220705 +0.j -0.1591709 +0.j]]\n",
      "Real matrix: 0.07389482573813623\n",
      "Real labels: [0 0 0 0 0 0 0 0 0 0 0 0 0 0 0 0 0 0 0 0 0 0 0 0 0 0 0 0 0 0 0 0 0 0 0 0 0\n",
      " 0 0 0 0 0 0 0 0 0 0 0 0 0 0 0 0 0 0 0 0 0 1 0 0 1 0 0 1 0 0 0 1 1 0 0 1 0\n",
      " 0 0 0 0 1 0 1 1 0 0 0 0 1 0 0 0 1 0 1 1 0 1 0 0 0 0]\n"
     ]
    }
   ],
   "source": [
    "true_labels = [0] * cluster_size + [1] * cluster_size\n",
    "pred_labels = spectral_clustering(adjacency)\n",
    "\n",
    "print(\"Real matrix: {}\".format(metrics.adjusted_rand_score(true_labels, pred_labels)))\n",
    "print(\"Real labels: {}\".format(pred_labels))\n"
   ]
  },
  {
   "cell_type": "code",
   "execution_count": 163,
   "metadata": {},
   "outputs": [],
   "source": [
    "def rnd_test(a, seed):\n",
    "    random.seed(seed)\n",
    "    return random.sample(a, int(len(a) / 2))"
   ]
  },
  {
   "cell_type": "code",
   "execution_count": 166,
   "metadata": {},
   "outputs": [
    {
     "name": "stdout",
     "output_type": "stream",
     "text": [
      "[6, 9, 0, 2, 4]\n",
      "[7, 10, 1, 3, 5]\n"
     ]
    }
   ],
   "source": [
    "print(rnd_test(range(10), 0))\n",
    "print(rnd_test(list(map(lambda x: x + 1, range(10))), 0))"
   ]
  },
  {
   "cell_type": "code",
   "execution_count": 156,
   "metadata": {},
   "outputs": [
    {
     "data": {
      "text/plain": [
       "array([1, 1, 1, 1, 1, 1, 1, 0, 1, 0])"
      ]
     },
     "execution_count": 156,
     "metadata": {},
     "output_type": "execute_result"
    }
   ],
   "source": [
    "pred_labels"
   ]
  },
  {
   "cell_type": "code",
   "execution_count": 157,
   "metadata": {},
   "outputs": [
    {
     "data": {
      "text/plain": [
       "array([1, 1, 1, 1, 1, 1, 0, 1, 1, 0])"
      ]
     },
     "execution_count": 157,
     "metadata": {},
     "output_type": "execute_result"
    }
   ],
   "source": [
    "pred_labels_complex"
   ]
  },
  {
   "cell_type": "code",
   "execution_count": 336,
   "metadata": {},
   "outputs": [
    {
     "name": "stderr",
     "output_type": "stream",
     "text": [
      "/usr/local/lib/python3.6/site-packages/sklearn/manifold/spectral_embedding_.py:234: UserWarning: Graph is not fully connected, spectral embedding may not work as expected.\n",
      "  warnings.warn(\"Graph is not fully connected, spectral embedding\"\n"
     ]
    }
   ],
   "source": [
    "sc = SpectralClustering(n_clusters=2, affinity='precomputed').fit(adjacency)"
   ]
  },
  {
   "cell_type": "code",
   "execution_count": 337,
   "metadata": {},
   "outputs": [
    {
     "data": {
      "text/plain": [
       "array([0, 0, 0, 0, 0, 0, 0, 0, 0, 0, 0, 0, 0, 0, 0, 0, 0, 0, 0, 0, 0, 0,\n",
       "       0, 0, 0, 0, 0, 0, 0, 0, 0, 0, 0, 0, 0, 0, 0, 0, 0, 0, 0, 0, 0, 0,\n",
       "       0, 0, 0, 0, 0, 0, 1, 1, 1, 1, 1, 1, 1, 1, 1, 1, 1, 1, 1, 1, 1, 1,\n",
       "       1, 1, 1, 1, 1, 1, 1, 1, 1, 1, 1, 1, 1, 1, 1, 1, 1, 1, 1, 1, 1, 1,\n",
       "       1, 1, 1, 1, 1, 1, 1, 1, 1, 1, 1, 1], dtype=int32)"
      ]
     },
     "execution_count": 337,
     "metadata": {},
     "output_type": "execute_result"
    }
   ],
   "source": [
    "sc.labels_"
   ]
  }
 ],
 "metadata": {
  "kernelspec": {
   "display_name": "Python 3",
   "language": "python",
   "name": "python3"
  },
  "language_info": {
   "codemirror_mode": {
    "name": "ipython",
    "version": 3
   },
   "file_extension": ".py",
   "mimetype": "text/x-python",
   "name": "python",
   "nbconvert_exporter": "python",
   "pygments_lexer": "ipython3",
   "version": "3.6.4"
  }
 },
 "nbformat": 4,
 "nbformat_minor": 2
}

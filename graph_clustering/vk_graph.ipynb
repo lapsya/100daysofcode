{
 "cells": [
  {
   "cell_type": "code",
   "execution_count": 1,
   "metadata": {},
   "outputs": [],
   "source": [
    "import time\n",
    "import json\n",
    "from functools import wraps\n",
    "from datetime import datetime\n",
    "from datetime import date\n",
    "from dateutil.relativedelta import relativedelta\n",
    "\n",
    "import vk\n",
    "import networkx as nx\n",
    "import matplotlib.pyplot as plt\n",
    "import scipy as sp\n",
    "import pandas as pd\n",
    "\n",
    "import numpy as np\n",
    "from numpy.linalg import norm\n",
    "\n",
    "from sklearn.cluster import SpectralClustering\n",
    "from sklearn.metrics import silhouette_score"
   ]
  },
  {
   "cell_type": "code",
   "execution_count": 2,
   "metadata": {},
   "outputs": [],
   "source": [
    "cache_filename = 'graph_vertex_cache.json'"
   ]
  },
  {
   "cell_type": "code",
   "execution_count": 3,
   "metadata": {},
   "outputs": [],
   "source": [
    "with open(\"author.txt\") as f:\n",
    "    login = f.readline().rstrip()\n",
    "    passwd = f.readline().rstrip()\n",
    "\n",
    "session = vk.AuthSession(app_id='6070120', user_login=login, user_password=passwd)\n",
    "\n",
    "api = vk.API(session)\n",
    "api_version = \"5.73\"\n",
    "\n",
    "\n",
    "requests_count = 0"
   ]
  },
  {
   "cell_type": "markdown",
   "metadata": {},
   "source": [
    "## Load graph cache dictionary from file if possible"
   ]
  },
  {
   "cell_type": "code",
   "execution_count": 4,
   "metadata": {},
   "outputs": [],
   "source": [
    "try:\n",
    "    cache_dict = json.load(open(cache_filename, 'r'))\n",
    "except FileNotFoundError:\n",
    "    cache_dict = {}\n",
    "    \n",
    "cache_dict = {int(k): val for k, val in cache_dict.items()}"
   ]
  },
  {
   "cell_type": "markdown",
   "metadata": {},
   "source": [
    "## Construct a graph"
   ]
  },
  {
   "cell_type": "markdown",
   "metadata": {},
   "source": [
    "#### Necessary decorators"
   ]
  },
  {
   "cell_type": "code",
   "execution_count": 5,
   "metadata": {},
   "outputs": [],
   "source": [
    "# decorator that handles sleeping\n",
    "def vk_requester(request_func):\n",
    "    @wraps(request_func)\n",
    "    def wrapper(*args, **kwargs):\n",
    "        global requests_count\n",
    "        if requests_count == 3:\n",
    "            requests_count = 0\n",
    "            time.sleep(1)\n",
    "        try:\n",
    "            requests_count += 1\n",
    "            return_val = request_func(*args, **kwargs)\n",
    "        except vk.exceptions.VkAPIError as err:\n",
    "            if err.code in (6, 10): # too many requests per second or internal server error\n",
    "                time.sleep(1)\n",
    "                requests_count += 1\n",
    "                return_val = request_func(*args, **kwargs)\n",
    "            else:\n",
    "                raise err\n",
    "        return return_val\n",
    "    return wrapper"
   ]
  },
  {
   "cell_type": "code",
   "execution_count": 6,
   "metadata": {},
   "outputs": [],
   "source": [
    "def request_list(request_func):\n",
    "    @wraps(request_func)\n",
    "    def wrapper(*args, **kwargs):\n",
    "        return_val = request_func(*args, **kwargs)\n",
    "        if isinstance(return_val, list):\n",
    "            return return_val\n",
    "        else:\n",
    "            return list(return_val['items'])\n",
    "    return wrapper\n",
    "\n",
    "def handle_friends_exceptions(request_func):\n",
    "    @wraps(request_func)\n",
    "    def wrapper(*args, **kwargs):\n",
    "        try:\n",
    "            return_val = request_func(*args, **kwargs)\n",
    "        except vk.exceptions.VkAPIError as err:\n",
    "            if err.code == 18: # deleted or banned user\n",
    "                return_val = []\n",
    "            else:\n",
    "                raise err\n",
    "        return return_val\n",
    "    return wrapper"
   ]
  },
  {
   "cell_type": "code",
   "execution_count": 7,
   "metadata": {},
   "outputs": [],
   "source": [
    "@request_list\n",
    "@handle_friends_exceptions\n",
    "@vk_requester\n",
    "def get_friends(api, api_version, user_id):\n",
    "    return api.friends.get(user_id=user_id, v=api_version)"
   ]
  },
  {
   "cell_type": "markdown",
   "metadata": {},
   "source": [
    "#### Custom `Graph` wrapper for `nx.Graph`"
   ]
  },
  {
   "cell_type": "code",
   "execution_count": 48,
   "metadata": {},
   "outputs": [],
   "source": [
    "class Graph(nx.Graph):    \n",
    "    def __init__(self, start_id, waves, *args, **kwargs):\n",
    "        super(Graph, self).__init__(*args, **kwargs)\n",
    "        self.start_id = start_id\n",
    "        self.waves = waves\n",
    "        self.nodes_waves = {wave: [] for wave in range(waves)}\n",
    "        self.nodes_waves[waves] = [start_id]\n",
    "\n",
    "    def reverse_waves(self):\n",
    "        self.nodes_waves = {self.waves - key: val for key, val in self.nodes_waves.items()}"
   ]
  },
  {
   "cell_type": "markdown",
   "metadata": {},
   "source": [
    "#### Functions responsible for graph construction"
   ]
  },
  {
   "cell_type": "code",
   "execution_count": 66,
   "metadata": {},
   "outputs": [],
   "source": [
    "def construct_graph(user_id, output_graph, wave=3):\n",
    "    output_graph.add_node(user_id)\n",
    "    \n",
    "    global cache_dict\n",
    "\n",
    "    if user_id in cache_dict:\n",
    "        friends = cache_dict[user_id]\n",
    "    else:\n",
    "        #print(\"{} not found in cache\".format(user_id))\n",
    "        friends = get_friends(api, api_version, user_id)\n",
    "        cache_dict[user_id] = friends\n",
    "\n",
    "    # add each friendship and dive deeper\n",
    "    for friend in friends:\n",
    "        friend_in_graph = friend in output_graph\n",
    "        if wave != 0 and not friend_in_graph:\n",
    "            output_graph.nodes_waves[wave - 1].append(friend)\n",
    "            construct_graph(friend, output_graph, api, wave - 1)\n",
    "        if wave == 0 and not friend_in_graph:\n",
    "            continue\n",
    "\n",
    "        output_graph.add_edge(user_id, friend)\n",
    "        \n",
    "        \n",
    "def construct_graph_from_cache(user_id, output_graph, wave=3):\n",
    "    output_graph.add_node(user_id)\n",
    "    \n",
    "    if user_id in cache_dict:\n",
    "        friends = cache_dict[user_id]\n",
    "        for friend in friends:\n",
    "            friend_in_graph = friend in output_graph\n",
    "            if wave != 0 and not friend_in_graph:\n",
    "                output_graph.nodes_waves[wave - 1].append(friend)\n",
    "                construct_graph_from_cache(friend, output_graph, wave - 1)\n",
    "            if wave == 0 and not friend_in_graph:\n",
    "                continue\n",
    "                \n",
    "            output_graph.add_edge(user_id, friend)\n",
    "            \n",
    "            \n",
    "def create_graph(start_id, waves, constructor):\n",
    "    graph = Graph(start_id, waves)\n",
    "    \n",
    "    constructor(graph.start_id, graph, graph.waves)\n",
    "    graph.reverse_waves()\n",
    "    \n",
    "    return graph"
   ]
  },
  {
   "cell_type": "code",
   "execution_count": 9,
   "metadata": {},
   "outputs": [],
   "source": [
    "class MyCoolException(Exception):\n",
    "    pass"
   ]
  },
  {
   "cell_type": "code",
   "execution_count": 10,
   "metadata": {},
   "outputs": [],
   "source": [
    "start_id = 10938483 # my id"
   ]
  },
  {
   "cell_type": "markdown",
   "metadata": {},
   "source": [
    "#### Construct graph via requests"
   ]
  },
  {
   "cell_type": "code",
   "execution_count": null,
   "metadata": {
    "scrolled": true
   },
   "outputs": [],
   "source": [
    "%%time\n",
    "while True:\n",
    "    try:\n",
    "        main_graph = create_graph(start_id, 4, construct_graph)\n",
    "        raise MyCoolException()\n",
    "    except Exception as err:\n",
    "        if isinstance(err, MyCoolException):\n",
    "            break\n"
   ]
  },
  {
   "cell_type": "code",
   "execution_count": 25,
   "metadata": {
    "scrolled": false
   },
   "outputs": [
    {
     "data": {
      "text/plain": [
       "6404472"
      ]
     },
     "execution_count": 25,
     "metadata": {},
     "output_type": "execute_result"
    }
   ],
   "source": [
    "len(main_graph.nodes())"
   ]
  },
  {
   "cell_type": "markdown",
   "metadata": {},
   "source": [
    "#### Create the cache file"
   ]
  },
  {
   "cell_type": "code",
   "execution_count": 77,
   "metadata": {},
   "outputs": [],
   "source": [
    "'''\n",
    "with open(cache_filename, 'w') as f:\n",
    "    json.dump(cache_dict, f)\n",
    "'''"
   ]
  },
  {
   "cell_type": "markdown",
   "metadata": {},
   "source": [
    "#### Construct smaller graph from cache"
   ]
  },
  {
   "cell_type": "code",
   "execution_count": 73,
   "metadata": {},
   "outputs": [
    {
     "name": "stdout",
     "output_type": "stream",
     "text": [
      "CPU times: user 132 ms, sys: 3.07 ms, total: 135 ms\n",
      "Wall time: 134 ms\n"
     ]
    }
   ],
   "source": [
    "%%time\n",
    "graph_piece = create_graph(start_id, 2, construct_graph_from_cache)"
   ]
  },
  {
   "cell_type": "code",
   "execution_count": null,
   "metadata": {},
   "outputs": [],
   "source": [
    "%%time\n",
    "main_graph = create_graph(start_id, 4, construct_graph_from_cache)"
   ]
  },
  {
   "cell_type": "code",
   "execution_count": 74,
   "metadata": {},
   "outputs": [
    {
     "data": {
      "text/plain": [
       "3689"
      ]
     },
     "execution_count": 74,
     "metadata": {},
     "output_type": "execute_result"
    }
   ],
   "source": [
    "len(graph_piece)"
   ]
  },
  {
   "cell_type": "markdown",
   "metadata": {},
   "source": [
    "## Visualize the graph"
   ]
  },
  {
   "cell_type": "code",
   "execution_count": 75,
   "metadata": {},
   "outputs": [
    {
     "name": "stdout",
     "output_type": "stream",
     "text": [
      "CPU times: user 9.65 ms, sys: 122 µs, total: 9.77 ms\n",
      "Wall time: 9.12 ms\n"
     ]
    }
   ],
   "source": [
    "%%time\n",
    "pos=nx.shell_layout(graph_piece, list(map(lambda x: x[1], sorted(nodes_waves.items(), reverse=True))))"
   ]
  },
  {
   "cell_type": "code",
   "execution_count": 57,
   "metadata": {},
   "outputs": [],
   "source": [
    "colors = ['#f20000', '#f0e000', '#097505', '#07edb3', '#0791ed', '#0716ed', '#9d08a8']"
   ]
  },
  {
   "cell_type": "code",
   "execution_count": 76,
   "metadata": {},
   "outputs": [
    {
     "name": "stdout",
     "output_type": "stream",
     "text": [
      "CPU times: user 1.02 s, sys: 340 ms, total: 1.36 s\n",
      "Wall time: 956 ms\n"
     ]
    },
    {
     "data": {
      "image/png": "[encoded data removed]",
      "text/plain": [
       "<Figure size 432x288 with 1 Axes>"
      ]
     },
     "metadata": {},
     "output_type": "display_data"
    }
   ],
   "source": [
    "%%time\n",
    "#nx.draw(main_graph, pos=pos, node_color='pink', edge_color='black', node_size=1)\n",
    "\n",
    "def draw_graph_waves(graph, pos, nodes_waves, filename):\n",
    "    for wave, nodes in sorted(nodes_waves.items(), reverse=True):\n",
    "        nx.draw_networkx_nodes(graph, pos, nodelist=nodes, node_color=colors[wave], node_size=5 - 2 * wave)\n",
    "    nx.draw_networkx_edges(graph, pos, width=0.5, alpha=0.5)\n",
    "\n",
    "    plt.axis('off')\n",
    "    plt.savefig(\"{}.pdf\".format(filename), orientation='portrait', transparent=False, bbox_inches=None, pad_inches=0.1) \n",
    "\n",
    "draw_graph_waves(graph_piece, pos, nodes_waves, 'graph')"
   ]
  },
  {
   "cell_type": "markdown",
   "metadata": {},
   "source": [
    "## Form dataset from graph nodes"
   ]
  },
  {
   "cell_type": "code",
   "execution_count": 17,
   "metadata": {},
   "outputs": [],
   "source": [
    "@vk_requester\n",
    "def get_users(api, api_version, user_ids, fields):\n",
    "    return api.users.get(user_ids=user_ids, fields=fields, v=api_version)"
   ]
  },
  {
   "cell_type": "code",
   "execution_count": 18,
   "metadata": {},
   "outputs": [],
   "source": [
    "@request_list\n",
    "@vk_requester\n",
    "def get_groups(api, api_version, user_ids, fields):\n",
    "    return api.groups.get(user_ids=user_ids, extended=1, fields=fields, v=api_version)"
   ]
  },
  {
   "cell_type": "code",
   "execution_count": 19,
   "metadata": {},
   "outputs": [],
   "source": [
    "features_fields = ['uid', 'first_name', 'last_name', 'deactivated', \n",
    "                   'bdate', 'city', 'country', 'home_town', \n",
    "                   'universities', 'schools', 'relation', 'counters']\n",
    "counters = ['audios', 'friends', 'photos', 'videos', 'groups']\n",
    "\n",
    "features = ['first_name', 'last_name', 'is_active', 'age', 'education', \n",
    "            'has_age', 'has_education', 'has_location'] \n",
    "features += list(map(lambda x: 'cnt_{}'.format(x), counters)) + ['avg_group_size', 'avg_friend_degree', 'wave', 'degree']\n",
    "\n",
    "def create_dataset(graph, nodes_data):\n",
    "    node_ids = list(graph.nodes())\n",
    "    for node_id in node_ids:\n",
    "        \n",
    "        if node_id in nodes_data.index:\n",
    "            continue\n",
    "            \n",
    "        user = get_users(api, api_version, node_id, features_fields)[0]\n",
    "\n",
    "        f = {feature: np.nan for feature in nodes_data.columns}\n",
    "        # generate features from acquired fields\n",
    "        if 'first_name' in user:\n",
    "            f['first_name'] = user['first_name']\n",
    "\n",
    "        if 'last_name' in user:\n",
    "            f['last_name'] = user['last_name']\n",
    "\n",
    "        if 'deactivated' in user:\n",
    "            f['is_active'] = 0\n",
    "\n",
    "        if 'bdate' in user:\n",
    "            try:\n",
    "                f['age'] = relativedelta(date.today(), datetime.strptime(user['bdate'], '%d.%m.%Y').date()).years\n",
    "            except:\n",
    "                pass\n",
    "            f['has_age'] = 1\n",
    "        else:\n",
    "            f['has_age'] = 0\n",
    "\n",
    "        if 'universities' in user:\n",
    "            f['education'] = 'higher'\n",
    "            f['has_education'] = 1\n",
    "        elif 'schools' in user:\n",
    "            f['education'] = 'secondary'\n",
    "            f['has_education'] = 1\n",
    "        else:\n",
    "            f['has_education'] = 0\n",
    "\n",
    "        if any (field in user for field in ('city', 'country', 'home_town')):\n",
    "            f['has_location'] = 1\n",
    "        else:\n",
    "            f['has_location'] = 0\n",
    "\n",
    "        if 'counters' in user:\n",
    "            for counter in counters:\n",
    "                if counter in user['counters']:\n",
    "                    f['cnt_{}'.format(counter)] = user['counters'][counter]\n",
    "\n",
    "        groups = get_groups(api, api_version, node_id, fields=['gid', 'members_count'])\n",
    "        groups = list(group['members_count'] for group in groups if 'members_count' in group)\n",
    "        f['avg_group_size'] = sum(groups) / len(groups)\n",
    "\n",
    "        neighbours_degrees = list(map(lambda x: graph.degree[x], list(graph.neighbors(node_id))))\n",
    "        f['avg_friend_degree'] = sum(neighbours_degrees) / len(neighbours_degrees)\n",
    "        \n",
    "        f['wave'] = [wave for wave, nodes in nodes_waves.items() if node_id in nodes][0]\n",
    "        \n",
    "        f['degree'] = graph.degree[node_id]\n",
    "        \n",
    "        nodes_data.loc[node_id] = tuple(f[key] for key in features)"
   ]
  },
  {
   "cell_type": "code",
   "execution_count": 77,
   "metadata": {},
   "outputs": [],
   "source": [
    "nodes_data = pd.DataFrame(columns=features)"
   ]
  },
  {
   "cell_type": "code",
   "execution_count": 20,
   "metadata": {},
   "outputs": [],
   "source": [
    "nodes_data = pd.read_csv('nodes_data.csv')"
   ]
  },
  {
   "cell_type": "code",
   "execution_count": 287,
   "metadata": {},
   "outputs": [
    {
     "name": "stdout",
     "output_type": "stream",
     "text": [
      "CPU times: user 16.3 ms, sys: 0 ns, total: 16.3 ms\n",
      "Wall time: 17.8 ms\n"
     ]
    }
   ],
   "source": [
    "%%time\n",
    "create_dataset(graph_piece, nodes_data)"
   ]
  },
  {
   "cell_type": "code",
   "execution_count": 290,
   "metadata": {},
   "outputs": [],
   "source": [
    "nodes_data.to_csv('nodes_data.csv')"
   ]
  },
  {
   "cell_type": "code",
   "execution_count": null,
   "metadata": {},
   "outputs": [],
   "source": [
    "%%time\n",
    "while True:\n",
    "    try:\n",
    "        create_dataset(graph_2waves, nodes_data)\n",
    "        raise MyCoolException()\n",
    "    except Exception as err:\n",
    "        if isinstance(err, MyCoolException):\n",
    "            break"
   ]
  },
  {
   "cell_type": "code",
   "execution_count": 21,
   "metadata": {},
   "outputs": [
    {
     "data": {
      "text/html": [
       "<div>\n",
       "<style scoped>\n",
       "    .dataframe tbody tr th:only-of-type {\n",
       "        vertical-align: middle;\n",
       "    }\n",
       "\n",
       "    .dataframe tbody tr th {\n",
       "        vertical-align: top;\n",
       "    }\n",
       "\n",
       "    .dataframe thead th {\n",
       "        text-align: right;\n",
       "    }\n",
       "</style>\n",
       "<table border=\"1\" class=\"dataframe\">\n",
       "  <thead>\n",
       "    <tr style=\"text-align: right;\">\n",
       "      <th></th>\n",
       "      <th>Unnamed: 0</th>\n",
       "      <th>first_name</th>\n",
       "      <th>last_name</th>\n",
       "      <th>is_active</th>\n",
       "      <th>age</th>\n",
       "      <th>education</th>\n",
       "      <th>has_age</th>\n",
       "      <th>has_education</th>\n",
       "      <th>has_location</th>\n",
       "      <th>cnt_audios</th>\n",
       "      <th>cnt_friends</th>\n",
       "      <th>cnt_photos</th>\n",
       "      <th>cnt_videos</th>\n",
       "      <th>cnt_groups</th>\n",
       "      <th>avg_group_size</th>\n",
       "      <th>avg_friend_degree</th>\n",
       "      <th>wave</th>\n",
       "      <th>degree</th>\n",
       "    </tr>\n",
       "  </thead>\n",
       "  <tbody>\n",
       "    <tr>\n",
       "      <th>0</th>\n",
       "      <td>10938483</td>\n",
       "      <td>Maria</td>\n",
       "      <td>Sindeeva</td>\n",
       "      <td>NaN</td>\n",
       "      <td>20.0</td>\n",
       "      <td>higher</td>\n",
       "      <td>1</td>\n",
       "      <td>1</td>\n",
       "      <td>1</td>\n",
       "      <td>681.0</td>\n",
       "      <td>115.0</td>\n",
       "      <td>284.0</td>\n",
       "      <td>27.0</td>\n",
       "      <td>51.0</td>\n",
       "      <td>58860.173913</td>\n",
       "      <td>38.486957</td>\n",
       "      <td>0.0</td>\n",
       "      <td>115.0</td>\n",
       "    </tr>\n",
       "    <tr>\n",
       "      <th>1</th>\n",
       "      <td>280452</td>\n",
       "      <td>Lilya</td>\n",
       "      <td>Kozlova</td>\n",
       "      <td>NaN</td>\n",
       "      <td>NaN</td>\n",
       "      <td>higher</td>\n",
       "      <td>0</td>\n",
       "      <td>1</td>\n",
       "      <td>1</td>\n",
       "      <td>0.0</td>\n",
       "      <td>960.0</td>\n",
       "      <td>60.0</td>\n",
       "      <td>211.0</td>\n",
       "      <td>NaN</td>\n",
       "      <td>58860.173913</td>\n",
       "      <td>2.596234</td>\n",
       "      <td>1.0</td>\n",
       "      <td>956.0</td>\n",
       "    </tr>\n",
       "    <tr>\n",
       "      <th>2</th>\n",
       "      <td>5033</td>\n",
       "      <td>Anastasia</td>\n",
       "      <td>Vlasova</td>\n",
       "      <td>NaN</td>\n",
       "      <td>117.0</td>\n",
       "      <td>NaN</td>\n",
       "      <td>1</td>\n",
       "      <td>0</td>\n",
       "      <td>1</td>\n",
       "      <td>0.0</td>\n",
       "      <td>285.0</td>\n",
       "      <td>550.0</td>\n",
       "      <td>58.0</td>\n",
       "      <td>NaN</td>\n",
       "      <td>58860.173913</td>\n",
       "      <td>359.000000</td>\n",
       "      <td>2.0</td>\n",
       "      <td>3.0</td>\n",
       "    </tr>\n",
       "    <tr>\n",
       "      <th>3</th>\n",
       "      <td>7523</td>\n",
       "      <td>Lena</td>\n",
       "      <td>Linkova</td>\n",
       "      <td>NaN</td>\n",
       "      <td>117.0</td>\n",
       "      <td>NaN</td>\n",
       "      <td>1</td>\n",
       "      <td>0</td>\n",
       "      <td>1</td>\n",
       "      <td>135.0</td>\n",
       "      <td>659.0</td>\n",
       "      <td>1021.0</td>\n",
       "      <td>26.0</td>\n",
       "      <td>NaN</td>\n",
       "      <td>58860.173913</td>\n",
       "      <td>956.000000</td>\n",
       "      <td>2.0</td>\n",
       "      <td>1.0</td>\n",
       "    </tr>\n",
       "    <tr>\n",
       "      <th>4</th>\n",
       "      <td>11797</td>\n",
       "      <td>Anna</td>\n",
       "      <td>Ivanova</td>\n",
       "      <td>NaN</td>\n",
       "      <td>28.0</td>\n",
       "      <td>NaN</td>\n",
       "      <td>1</td>\n",
       "      <td>0</td>\n",
       "      <td>1</td>\n",
       "      <td>172.0</td>\n",
       "      <td>375.0</td>\n",
       "      <td>158.0</td>\n",
       "      <td>11.0</td>\n",
       "      <td>82.0</td>\n",
       "      <td>58860.173913</td>\n",
       "      <td>956.000000</td>\n",
       "      <td>2.0</td>\n",
       "      <td>1.0</td>\n",
       "    </tr>\n",
       "  </tbody>\n",
       "</table>\n",
       "</div>"
      ],
      "text/plain": [
       "   Unnamed: 0 first_name last_name  is_active    age education  has_age  \\\n",
       "0    10938483      Maria  Sindeeva        NaN   20.0    higher        1   \n",
       "1      280452      Lilya   Kozlova        NaN    NaN    higher        0   \n",
       "2        5033  Anastasia   Vlasova        NaN  117.0       NaN        1   \n",
       "3        7523       Lena   Linkova        NaN  117.0       NaN        1   \n",
       "4       11797       Anna   Ivanova        NaN   28.0       NaN        1   \n",
       "\n",
       "   has_education  has_location  cnt_audios  cnt_friends  cnt_photos  \\\n",
       "0              1             1       681.0        115.0       284.0   \n",
       "1              1             1         0.0        960.0        60.0   \n",
       "2              0             1         0.0        285.0       550.0   \n",
       "3              0             1       135.0        659.0      1021.0   \n",
       "4              0             1       172.0        375.0       158.0   \n",
       "\n",
       "   cnt_videos  cnt_groups  avg_group_size  avg_friend_degree  wave  degree  \n",
       "0        27.0        51.0    58860.173913          38.486957   0.0   115.0  \n",
       "1       211.0         NaN    58860.173913           2.596234   1.0   956.0  \n",
       "2        58.0         NaN    58860.173913         359.000000   2.0     3.0  \n",
       "3        26.0         NaN    58860.173913         956.000000   2.0     1.0  \n",
       "4        11.0        82.0    58860.173913         956.000000   2.0     1.0  "
      ]
     },
     "execution_count": 21,
     "metadata": {},
     "output_type": "execute_result"
    }
   ],
   "source": [
    "nodes_data.head()"
   ]
  },
  {
   "cell_type": "markdown",
   "metadata": {},
   "source": [
    "## Apply clustering to the data"
   ]
  },
  {
   "cell_type": "code",
   "execution_count": 278,
   "metadata": {},
   "outputs": [],
   "source": [
    "def spectral_cluster(graph):\n",
    "    adjacency = nx.adjacency_matrix(graph)\n",
    "    \n",
    "    clusterings = []\n",
    "    for k in range(2, 10):\n",
    "        cl = SpectralClustering(n_clusters=k, affinity='precomputed').fit(adjacency)\n",
    "        clusterings.append(cl)\n",
    "        \n",
    "        print('at {} clusters we get {} silhouette'.format(k, silhouette_score(adjacency, cl.labels_)))\n",
    "    \n",
    "    best_clustering = max(clusterings, key = lambda clustering: silhouette_score(adjacency, clustering.labels_))\n",
    "    \n",
    "    labels_nodes = {label: [] for label in range(best_clustering.n_clusters)}\n",
    "    for ind, node_id in enumerate(graph.nodes()):\n",
    "        labels_nodes[best_clustering.labels_[ind]].append(node_id)\n",
    "        \n",
    "    return best_clustering, labels_nodes"
   ]
  },
  {
   "cell_type": "code",
   "execution_count": 279,
   "metadata": {},
   "outputs": [
    {
     "name": "stdout",
     "output_type": "stream",
     "text": [
      "at 2 clusters we get 0.932726682393105 silhouette\n",
      "at 3 clusters we get 0.8785709819277412 silhouette\n",
      "at 4 clusters we get 0.878720072930632 silhouette\n",
      "at 5 clusters we get 0.8371992914661815 silhouette\n",
      "at 6 clusters we get 0.7123912687463819 silhouette\n",
      "at 7 clusters we get 0.7124897434218614 silhouette\n",
      "at 8 clusters we get 0.7126916910209763 silhouette\n",
      "at 9 clusters we get 0.7126098587897507 silhouette\n",
      "CPU times: user 13.8 s, sys: 13.8 s, total: 27.6 s\n",
      "Wall time: 11.4 s\n"
     ]
    }
   ],
   "source": [
    "%%time\n",
    "clustering, labels_nodes = spectral_cluster(graph_piece)"
   ]
  },
  {
   "cell_type": "code",
   "execution_count": 275,
   "metadata": {},
   "outputs": [
    {
     "data": {
      "text/plain": [
       "2"
      ]
     },
     "execution_count": 275,
     "metadata": {},
     "output_type": "execute_result"
    }
   ],
   "source": [
    "clustering.n_clusters"
   ]
  },
  {
   "cell_type": "code",
   "execution_count": 291,
   "metadata": {},
   "outputs": [
    {
     "data": {
      "text/plain": [
       "{0: 3688, 1: 1}"
      ]
     },
     "execution_count": 291,
     "metadata": {},
     "output_type": "execute_result"
    }
   ],
   "source": [
    "{label: len(nodes) for label, nodes in labels_nodes.items()}"
   ]
  },
  {
   "cell_type": "code",
   "execution_count": 292,
   "metadata": {},
   "outputs": [
    {
     "data": {
      "image/png": "[encoded data removed]",
      "text/plain": [
       "<Figure size 432x288 with 1 Axes>"
      ]
     },
     "metadata": {},
     "output_type": "display_data"
    }
   ],
   "source": [
    "draw_graph_waves(graph_piece, pos, labels_nodes, 'graph_3')"
   ]
  },
  {
   "cell_type": "code",
   "execution_count": null,
   "metadata": {},
   "outputs": [],
   "source": [
    "%%time\n",
    "#adjacency = smth\n",
    "    \n",
    "'''\n",
    "silhouettes = {}\n",
    "for k in range(2, 10):\n",
    "    fit_clustering = SpectralClustering(n_clusters=k, affinity='precomputed').fit(adjacency)\n",
    "    silhouettes[k] = (silhouette(k, adjacency, fit_clustering.labels_), fit_clustering)\n",
    "'''\n",
    "\n",
    "clusterings = []\n",
    "for k in range(2, 10):\n",
    "    cl = SpectralClustering(n_clusters=k, affinity='precomputed').fit(adjacency)\n",
    "    clusterings.append(cl)\n",
    "    \n",
    "    labels_nodes = {}\n",
    "    for label in cl.labels_:\n",
    "        labels_nodes[label] = [node_id for ind, node_id in enumerate(main_graph.nodes()) if cl.labels_[ind] == label]\n",
    "    \n",
    "    \n",
    "print(max(clusterings, key = lambda clustering: silhouette_score(adjacency, clustering.labels_)))"
   ]
  },
  {
   "cell_type": "markdown",
   "metadata": {},
   "source": [
    "## Deprecated but possibly useful functions"
   ]
  },
  {
   "cell_type": "code",
   "execution_count": 29,
   "metadata": {},
   "outputs": [],
   "source": [
    "'''\n",
    "DEPRECATED IN FAVOUR OF DECORATORS\n",
    "'''\n",
    "def get_friends_with_sleep(user_id):\n",
    "    global requests_count\n",
    "    if requests_count == 3: # avoid making too many requests\n",
    "        requests_count = 0\n",
    "        time.sleep(1)\n",
    "\n",
    "    try:\n",
    "        friends = api.friends.get(user_id=user_id, v=api_version)\n",
    "        requests_count += 1\n",
    "    except vk.exceptions.VkAPIError as err:\n",
    "        if err.code in (6, 10): # too many requests per second or internal server error\n",
    "            time.sleep(1)\n",
    "            friends = get_friends_with_sleep(user_id)\n",
    "        else:\n",
    "            raise err\n",
    "    if isinstance(friends, list):\n",
    "        return friends\n",
    "    return friends['items']"
   ]
  },
  {
   "cell_type": "code",
   "execution_count": 36,
   "metadata": {},
   "outputs": [],
   "source": [
    "'''\n",
    "DEPRECATED\n",
    "'''\n",
    "\n",
    "def silhouette(k_clusters, data, labels):\n",
    "    \n",
    "    s = []\n",
    "    for vec_ind, vec in enumerate(data):\n",
    "        vec_cluster = labels[vec_ind]\n",
    "        b_i = []\n",
    "        a_i = 0\n",
    "        for cl_num in range(k_clusters):\n",
    "            metric = np.average([norm(vec - cl_vec) for cl_vec_ind, cl_vec in enumerate(data) if labels[cl_vec_ind] == cl_num])\n",
    "            if vec_cluster == cl_num:\n",
    "                a_i = metric\n",
    "            else:\n",
    "                b_i.append(metric)\n",
    "        b_i = min(b_i)\n",
    "        \n",
    "        s_i = (b_i - a_i) / max(a_i, b_i)\n",
    "        s.append(s_i)\n",
    "    \n",
    "    return np.average(s)"
   ]
  }
 ],
 "metadata": {
  "kernelspec": {
   "display_name": "Python 3",
   "language": "python",
   "name": "python3"
  },
  "language_info": {
   "codemirror_mode": {
    "name": "ipython",
    "version": 3
   },
   "file_extension": ".py",
   "mimetype": "text/x-python",
   "name": "python",
   "nbconvert_exporter": "python",
   "pygments_lexer": "ipython3",
   "version": "3.6.4"
  }
 },
 "nbformat": 4,
 "nbformat_minor": 2
}

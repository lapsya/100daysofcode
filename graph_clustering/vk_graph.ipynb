{
 "cells": [
  {
   "cell_type": "code",
   "execution_count": 21,
   "metadata": {},
   "outputs": [],
   "source": [
    "import time\n",
    "import json\n",
    "from functools import wraps\n",
    "from datetime.datetime import strptime\n",
    "from datetime.date import today\n",
    "from dateutil.relativedelta import relativedelta\n",
    "\n",
    "import vk\n",
    "import networkx as nx\n",
    "import matplotlib.pyplot as plt\n",
    "import scipy as sp\n",
    "\n",
    "import numpy as np\n",
    "from numpy.linalg import norm\n",
    "\n",
    "from sklearn.cluster import SpectralClustering\n",
    "from sklearn.metrics import silhouette_score"
   ]
  },
  {
   "cell_type": "code",
   "execution_count": 2,
   "metadata": {},
   "outputs": [],
   "source": [
    "cache_filename = 'graph_vertex_cache.json'"
   ]
  },
  {
   "cell_type": "code",
   "execution_count": 3,
   "metadata": {},
   "outputs": [],
   "source": [
    "with open(\"author.txt\") as f:\n",
    "    login = f.readline().rstrip()\n",
    "    passwd = f.readline().rstrip()\n",
    "\n",
    "session = vk.AuthSession(app_id='6070120', user_login=login, user_password=passwd)\n",
    "\n",
    "api = vk.API(session)\n",
    "api_version = \"5.73\""
   ]
  },
  {
   "cell_type": "markdown",
   "metadata": {},
   "source": [
    "### Load graph dictionary from file if possible"
   ]
  },
  {
   "cell_type": "code",
   "execution_count": 4,
   "metadata": {},
   "outputs": [],
   "source": [
    "try:\n",
    "    cache_dict = json.load(open(cache_filename, 'r'))\n",
    "except FileNotFoundError:\n",
    "    cache_dict = {}\n",
    "    \n",
    "cache_dict = {int(k): val for k, val in cache_dict.items()}"
   ]
  },
  {
   "cell_type": "markdown",
   "metadata": {},
   "source": [
    "### Construct a graph"
   ]
  },
  {
   "cell_type": "code",
   "execution_count": 22,
   "metadata": {},
   "outputs": [],
   "source": [
    "# decorator that handles sleeping\n",
    "def vk_requester(request_func):\n",
    "    @wraps(request_func)\n",
    "    def wrapper(*args, **kwargs):\n",
    "        global requests_count\n",
    "        if requests_count == 3:\n",
    "            requests_count = 0\n",
    "            time.sleep(1)\n",
    "        try:\n",
    "            requests_count += 1\n",
    "            return_val = request_func(*args, **kwargs)\n",
    "        except vk.exceptions.VkAPIError as err:\n",
    "            if err.code in (6, 10): # too many requests per second or internal server error\n",
    "                time.sleep(1)\n",
    "                requests_count += 1\n",
    "                return_val = request_func(*args, **kwargs)\n",
    "            else:\n",
    "                raise err\n",
    "        return return_val\n",
    "    return wrapper"
   ]
  },
  {
   "cell_type": "code",
   "execution_count": 72,
   "metadata": {},
   "outputs": [],
   "source": [
    "def request_list(request_func):\n",
    "    @wraps(request_func)\n",
    "    def wrapper(*args, **kwargs):\n",
    "        return_val = request_func(*args, **kwargs)\n",
    "        if isinstance(return_val, list):\n",
    "            return return_val\n",
    "        else:\n",
    "            return list(return_val['items'])\n",
    "    return wrapper\n",
    "\n",
    "def handle_friends_exceptions(request_func):\n",
    "    @wraps(request_func)\n",
    "    def wrapper(*args, **kwargs):\n",
    "        try:\n",
    "            return_val = request_func(*args, **kwargs)\n",
    "        except vk.exceptions.VkAPIError as err:\n",
    "            if err.code == 18: # deleted or banned user\n",
    "                return_val = []\n",
    "            else:\n",
    "                raise err\n",
    "        return return_val\n",
    "    return wrapper"
   ]
  },
  {
   "cell_type": "code",
   "execution_count": 73,
   "metadata": {},
   "outputs": [],
   "source": [
    "@request_list\n",
    "@handle_friends_exceptions\n",
    "@vk_requester\n",
    "def get_friends(api, api_version, user_id):\n",
    "    return api.friends.get(user_id=user_id, v=api_version)"
   ]
  },
  {
   "cell_type": "code",
   "execution_count": 59,
   "metadata": {},
   "outputs": [],
   "source": [
    "def construct_graph(user_id, output_graph, api, waves=3):\n",
    "    output_graph.add_node(user_id)\n",
    "    \n",
    "    global nodes_waves\n",
    "    nodes_waves[waves].append(user_id)\n",
    "    \n",
    "    if waves != 0:\n",
    "        # request friends\n",
    "        global cache_dict\n",
    "\n",
    "        if user_id in cache_dict:\n",
    "            friends = cache_dict[user_id]\n",
    "        else:\n",
    "            #print(\"{} not found in cache\".format(user_id))\n",
    "            friends = get_friends(api, api_version, user_id)\n",
    "            cache_dict[user_id] = friends\n",
    "\n",
    "        # add each friendship and dive deeper\n",
    "        for friend in friends:\n",
    "            if waves != 0 and friend not in output_graph.nodes():\n",
    "                construct_graph(friend, output_graph, api, waves - 1)\n",
    "            output_graph.add_edge(user_id, friend)\n"
   ]
  },
  {
   "cell_type": "code",
   "execution_count": 8,
   "metadata": {},
   "outputs": [],
   "source": [
    "class MyCoolException(Exception):\n",
    "    pass"
   ]
  },
  {
   "cell_type": "code",
   "execution_count": null,
   "metadata": {
    "scrolled": true
   },
   "outputs": [],
   "source": [
    "%%time\n",
    "requests_count = 0\n",
    "main_graph = nx.Graph()\n",
    "start_id = 10938483 # my id\n",
    "waves = 4\n",
    "nodes_waves = {wave: [] for wave in range(waves + 1)}\n",
    "\n",
    "while True:\n",
    "    try:\n",
    "        construct_graph(start_id, main_graph, api, waves)\n",
    "        raise MyCoolException()\n",
    "    except Exception as err:\n",
    "        if isinstance(err, MyCoolException):\n",
    "            break\n",
    "\n",
    "            \n",
    "#graph_from_cache(start_id, main_graph)\n",
    "\n",
    "nodes_waves = {waves - key: val for key, val in nodes_waves.items()}"
   ]
  },
  {
   "cell_type": "code",
   "execution_count": 74,
   "metadata": {
    "scrolled": false
   },
   "outputs": [
    {
     "data": {
      "text/plain": [
       "5695650"
      ]
     },
     "execution_count": 74,
     "metadata": {},
     "output_type": "execute_result"
    }
   ],
   "source": [
    "len(main_graph.nodes())"
   ]
  },
  {
   "cell_type": "code",
   "execution_count": 77,
   "metadata": {},
   "outputs": [],
   "source": [
    "'''\n",
    "with open(cache_filename, 'w') as f:\n",
    "    json.dump(cache_dict, f)\n",
    "'''"
   ]
  },
  {
   "cell_type": "code",
   "execution_count": 76,
   "metadata": {},
   "outputs": [
    {
     "data": {
      "text/plain": [
       "21"
      ]
     },
     "execution_count": 76,
     "metadata": {},
     "output_type": "execute_result"
    }
   ],
   "source": [
    "len(nodes_waves[1])"
   ]
  },
  {
   "cell_type": "code",
   "execution_count": 66,
   "metadata": {},
   "outputs": [],
   "source": [
    "def graph_from_cache(user_id, output_graph, waves=3):\n",
    "    output_graph.add_node(user_id)\n",
    "    if waves == 0:\n",
    "        return\n",
    "    \n",
    "    if user_id in cache_dict:\n",
    "        friends = cache_dict[user_id]\n",
    "        for friend in friends:\n",
    "            if friend not in output_graph.nodes():\n",
    "                graph_from_cache(friend, output_graph, waves - 1)\n",
    "            output_graph.add_edge(user_id, friend)"
   ]
  },
  {
   "cell_type": "code",
   "execution_count": 67,
   "metadata": {},
   "outputs": [
    {
     "name": "stdout",
     "output_type": "stream",
     "text": [
      "CPU times: user 612 ms, sys: 48.3 ms, total: 661 ms\n",
      "Wall time: 750 ms\n"
     ]
    }
   ],
   "source": [
    "%%time\n",
    "graph_3waves = nx.Graph()\n",
    "graph_from_cache(start_id, graph_3waves, waves=3)"
   ]
  },
  {
   "cell_type": "code",
   "execution_count": 75,
   "metadata": {},
   "outputs": [
    {
     "data": {
      "text/plain": [
       "171253"
      ]
     },
     "execution_count": 75,
     "metadata": {},
     "output_type": "execute_result"
    }
   ],
   "source": [
    "len(graph_3waves)"
   ]
  },
  {
   "cell_type": "markdown",
   "metadata": {},
   "source": [
    "### Visualize the graph"
   ]
  },
  {
   "cell_type": "code",
   "execution_count": null,
   "metadata": {},
   "outputs": [],
   "source": [
    "%%time\n",
    "pos=nx.spring_layout(graph_3waves)"
   ]
  },
  {
   "cell_type": "code",
   "execution_count": 70,
   "metadata": {},
   "outputs": [],
   "source": [
    "colors = ['#f20000', '#f0e000', '#097505', '#07edb3', '#0791ed', '#0716ed', '#9d08a8']"
   ]
  },
  {
   "cell_type": "code",
   "execution_count": 14,
   "metadata": {},
   "outputs": [
    {
     "name": "stdout",
     "output_type": "stream",
     "text": [
      "2 #097505\n",
      "1 #f0e000\n",
      "0 #f20000\n",
      "CPU times: user 1.39 s, sys: 308 ms, total: 1.7 s\n",
      "Wall time: 1.3 s\n"
     ]
    },
    {
     "data": {
      "image/png": "[encoded data removed]",
      "text/plain": [
       "<Figure size 432x288 with 1 Axes>"
      ]
     },
     "metadata": {},
     "output_type": "display_data"
    }
   ],
   "source": [
    "%%time\n",
    "#nx.draw(main_graph, pos=pos, node_color='pink', edge_color='black', node_size=1)\n",
    "\n",
    "for wave, nodes in sorted(nodes_waves.items(), reverse=True):\n",
    "    print(wave, colors[wave])\n",
    "    nx.draw_networkx_nodes(main_graph, pos, nodelist=nodes, node_color=colors[wave], node_size=5 - 2 * wave)\n",
    "nx.draw_networkx_edges(main_graph, pos, width=0.5, alpha=0.5)\n",
    "\n",
    "plt.axis('off')\n",
    "plt.savefig(\"graph.pdf\", orientation='portrait', transparent=False, bbox_inches=None, pad_inches=0.1) \n"
   ]
  },
  {
   "cell_type": "markdown",
   "metadata": {},
   "source": [
    "### Form dataset from graph nodes"
   ]
  },
  {
   "cell_type": "code",
   "execution_count": 44,
   "metadata": {},
   "outputs": [],
   "source": [
    "@vk_requester\n",
    "def get_users(api, api_version, user_ids, fields):\n",
    "    return api.users.get(user_ids=user_ids, fields=fields, v=api_version)"
   ]
  },
  {
   "cell_type": "code",
   "execution_count": 78,
   "metadata": {},
   "outputs": [],
   "source": [
    "@request_list\n",
    "@vk_requester\n",
    "def get_groups(api, api_version, user_ids, fields):\n",
    "    return api.groups.get(user_ids=user_ids, extended=1, fields=fields, v=api_version)"
   ]
  },
  {
   "cell_type": "code",
   "execution_count": null,
   "metadata": {},
   "outputs": [],
   "source": [
    "features_fields = ['uid', 'first_name', 'last_name', 'deactivated', \n",
    "                   'bdate', 'city', 'country', 'home_town', \n",
    "                   'universities', 'schools', 'relation', 'counters']\n",
    "counters = ['audios', 'friends', 'photos', 'videos', 'groups']\n",
    "\n",
    "features = ['first_name', 'last_name', 'is_active', 'age', 'education', \n",
    "            'has_age', 'has_education', 'has_location'] + list(map(lambda x: 'cnt_{}'.format(x), counters)) + ['avg_group_size']\n",
    "\n",
    "\n",
    "node_ids = list(main_graph.nodes())\n",
    "nodes_data = pd.DataFrame(index=node_ids, columns=features)\n",
    "for node_id in node_ids:\n",
    "    user = get_users(api, api_version, node_id, features_fields)\n",
    "\n",
    "    # generate features from acquired fields\n",
    "    if 'first_name' in user:\n",
    "        nodes_data.loc[node_id, 'first_name'] = user['first_name']\n",
    "    \n",
    "    if 'last_name' in user:\n",
    "        nodes_data.loc[node_id, 'last_name'] = user['last_name']\n",
    "        \n",
    "    if 'deactivated' in user:\n",
    "        nodes_data.loc[node_id, 'is_active'] = 0\n",
    "        \n",
    "    if 'bdate' in user:\n",
    "        nodes_data.loc[node_id, 'age'] = relativedelta(today(), strptime(user['bdate'], '%d.%m.%Y').date()).years\n",
    "        nodes_data.loc[node_id, 'has_age'] = 1\n",
    "    else:\n",
    "        nodes_data.loc[node_id, 'has_age'] = 0\n",
    "    \n",
    "    if 'universities' in user:\n",
    "        nodes_data.loc[node_id, 'education'] = 'higher'\n",
    "        nodes_data.loc[node_id, 'has_education'] = 1\n",
    "    elif 'schools' in user:\n",
    "        nodes_data.loc[node_id, 'education'] = 'secondary'\n",
    "        nodes_data.loc[node_id, 'has_education'] = 1\n",
    "    else:\n",
    "        nodes_data.loc[node_id, 'has_education'] = 0\n",
    "        \n",
    "    if any (field in user for field in ('city', 'country', 'home_town')):\n",
    "        nodes_data.loc[node_id, 'has_location'] = 1\n",
    "    else:\n",
    "        nodes_data.loc[node_id, 'has_location'] = 0\n",
    "        \n",
    "    if 'counters' in user:\n",
    "        for counter in counters:\n",
    "            if counter in user['counters']:\n",
    "                nodes_data.loc[node_id, 'cnt_{}'.format(counter)] = user['counters'][counter]\n",
    "    \n",
    "    groups = get_groups(api, api_version, node_id, fields=['gid', 'members_count'])\n",
    "    groups = list(group['members_count'] for group in groups if 'members_count' in group)\n",
    "    nodes_data.loc[node_id, 'avg_group_size'] = sum(groups) / len(groups)"
   ]
  },
  {
   "cell_type": "markdown",
   "metadata": {},
   "source": [
    "### Apply clustering to the data"
   ]
  },
  {
   "cell_type": "code",
   "execution_count": 122,
   "metadata": {},
   "outputs": [],
   "source": [
    "adjacency = nx.adjacency_matrix(main_graph)"
   ]
  },
  {
   "cell_type": "code",
   "execution_count": null,
   "metadata": {},
   "outputs": [],
   "source": [
    "labels_nodes = {}\n",
    "for label in a.labels_:\n",
    "    labels_nodes[label] = [node_id for ind, node_id in enumerate(main_graph.nodes()) if a.labels_[ind] == label]"
   ]
  },
  {
   "cell_type": "code",
   "execution_count": null,
   "metadata": {},
   "outputs": [],
   "source": [
    "%%time\n",
    "#adjacency = smth\n",
    "    \n",
    "'''\n",
    "silhouettes = {}\n",
    "for k in range(2, 10):\n",
    "    fit_clustering = SpectralClustering(n_clusters=k, affinity='precomputed').fit(adjacency)\n",
    "    silhouettes[k] = (silhouette(k, adjacency, fit_clustering.labels_), fit_clustering)\n",
    "'''\n",
    "\n",
    "clusterings = []\n",
    "for k in range(2, 10):\n",
    "    cl = SpectralClustering(n_clusters=k, affinity='precomputed').fit(adjacency)\n",
    "    \n",
    "    labels_nodes = {}\n",
    "    for label in cl.labels_:\n",
    "        labels_nodes[label] = [node_id for ind, node_id in enumerate(main_graph.nodes()) if cl.labels_[ind] == label]\n",
    "    \n",
    "    \n",
    "print(max(clusterings, key = lambda clustering: silhouette_score(adjacency, clustering.labels_)))"
   ]
  },
  {
   "cell_type": "code",
   "execution_count": 49,
   "metadata": {},
   "outputs": [
    {
     "data": {
      "text/plain": [
       "[SpectralClustering(affinity='precomputed', assign_labels='kmeans', coef0=1,\n",
       "           degree=3, eigen_solver=None, eigen_tol=0.0, gamma=1.0,\n",
       "           kernel_params=None, n_clusters=2, n_init=10, n_jobs=1,\n",
       "           n_neighbors=10, random_state=None),\n",
       " SpectralClustering(affinity='precomputed', assign_labels='kmeans', coef0=1,\n",
       "           degree=3, eigen_solver=None, eigen_tol=0.0, gamma=1.0,\n",
       "           kernel_params=None, n_clusters=3, n_init=10, n_jobs=1,\n",
       "           n_neighbors=10, random_state=None),\n",
       " SpectralClustering(affinity='precomputed', assign_labels='kmeans', coef0=1,\n",
       "           degree=3, eigen_solver=None, eigen_tol=0.0, gamma=1.0,\n",
       "           kernel_params=None, n_clusters=4, n_init=10, n_jobs=1,\n",
       "           n_neighbors=10, random_state=None),\n",
       " SpectralClustering(affinity='precomputed', assign_labels='kmeans', coef0=1,\n",
       "           degree=3, eigen_solver=None, eigen_tol=0.0, gamma=1.0,\n",
       "           kernel_params=None, n_clusters=5, n_init=10, n_jobs=1,\n",
       "           n_neighbors=10, random_state=None),\n",
       " SpectralClustering(affinity='precomputed', assign_labels='kmeans', coef0=1,\n",
       "           degree=3, eigen_solver=None, eigen_tol=0.0, gamma=1.0,\n",
       "           kernel_params=None, n_clusters=6, n_init=10, n_jobs=1,\n",
       "           n_neighbors=10, random_state=None),\n",
       " SpectralClustering(affinity='precomputed', assign_labels='kmeans', coef0=1,\n",
       "           degree=3, eigen_solver=None, eigen_tol=0.0, gamma=1.0,\n",
       "           kernel_params=None, n_clusters=7, n_init=10, n_jobs=1,\n",
       "           n_neighbors=10, random_state=None),\n",
       " SpectralClustering(affinity='precomputed', assign_labels='kmeans', coef0=1,\n",
       "           degree=3, eigen_solver=None, eigen_tol=0.0, gamma=1.0,\n",
       "           kernel_params=None, n_clusters=8, n_init=10, n_jobs=1,\n",
       "           n_neighbors=10, random_state=None),\n",
       " SpectralClustering(affinity='precomputed', assign_labels='kmeans', coef0=1,\n",
       "           degree=3, eigen_solver=None, eigen_tol=0.0, gamma=1.0,\n",
       "           kernel_params=None, n_clusters=9, n_init=10, n_jobs=1,\n",
       "           n_neighbors=10, random_state=None)]"
      ]
     },
     "execution_count": 49,
     "metadata": {},
     "output_type": "execute_result"
    }
   ],
   "source": [
    "clusterings"
   ]
  },
  {
   "cell_type": "code",
   "execution_count": 29,
   "metadata": {},
   "outputs": [],
   "source": [
    "'''\n",
    "DEPRECATED IN FAVOUR OF DECORATORS\n",
    "'''\n",
    "def get_friends_with_sleep(user_id):\n",
    "    global requests_count\n",
    "    if requests_count == 3: # avoid making too many requests\n",
    "        requests_count = 0\n",
    "        time.sleep(1)\n",
    "\n",
    "    try:\n",
    "        friends = api.friends.get(user_id=user_id, v=api_version)\n",
    "        requests_count += 1\n",
    "    except vk.exceptions.VkAPIError as err:\n",
    "        if err.code in (6, 10): # too many requests per second or internal server error\n",
    "            time.sleep(1)\n",
    "            friends = get_friends_with_sleep(user_id)\n",
    "        else:\n",
    "            raise err\n",
    "    if isinstance(friends, list):\n",
    "        return friends\n",
    "    return friends['items']"
   ]
  },
  {
   "cell_type": "code",
   "execution_count": 36,
   "metadata": {},
   "outputs": [],
   "source": [
    "'''\n",
    "DEPRECATED\n",
    "'''\n",
    "\n",
    "def silhouette(k_clusters, data, labels):\n",
    "    \n",
    "    s = []\n",
    "    for vec_ind, vec in enumerate(data):\n",
    "        vec_cluster = labels[vec_ind]\n",
    "        b_i = []\n",
    "        a_i = 0\n",
    "        for cl_num in range(k_clusters):\n",
    "            metric = np.average([norm(vec - cl_vec) for cl_vec_ind, cl_vec in enumerate(data) if labels[cl_vec_ind] == cl_num])\n",
    "            if vec_cluster == cl_num:\n",
    "                a_i = metric\n",
    "            else:\n",
    "                b_i.append(metric)\n",
    "        b_i = min(b_i)\n",
    "        \n",
    "        s_i = (b_i - a_i) / max(a_i, b_i)\n",
    "        s.append(s_i)\n",
    "    \n",
    "    return np.average(s)"
   ]
  }
 ],
 "metadata": {
  "kernelspec": {
   "display_name": "Python 3",
   "language": "python",
   "name": "python3"
  },
  "language_info": {
   "codemirror_mode": {
    "name": "ipython",
    "version": 3
   },
   "file_extension": ".py",
   "mimetype": "text/x-python",
   "name": "python",
   "nbconvert_exporter": "python",
   "pygments_lexer": "ipython3",
   "version": "3.6.4"
  }
 },
 "nbformat": 4,
 "nbformat_minor": 2
}

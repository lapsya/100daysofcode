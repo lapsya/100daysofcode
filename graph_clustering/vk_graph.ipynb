{
 "cells": [
  {
   "cell_type": "code",
   "execution_count": 25,
   "metadata": {},
   "outputs": [],
   "source": [
    "import time\n",
    "import json\n",
    "\n",
    "import vk\n",
    "import networkx as nx\n",
    "import matplotlib.pyplot as plt\n",
    "import scipy as sp"
   ]
  },
  {
   "cell_type": "code",
   "execution_count": 3,
   "metadata": {},
   "outputs": [],
   "source": [
    "with open(\"author.txt\") as f:\n",
    "    login = f.readline().rstrip()\n",
    "    passwd = f.readline().rstrip()\n",
    "\n",
    "session = vk.AuthSession(app_id='6070120', user_login=login, user_password=passwd)\n",
    "\n",
    "api = vk.API(session)"
   ]
  },
  {
   "cell_type": "code",
   "execution_count": 7,
   "metadata": {},
   "outputs": [],
   "source": [
    "try:\n",
    "    cache_dict = json.load(open('graph_cache.json', 'r'))\n",
    "except FileNotFoundError:\n",
    "    cache_dict = {}"
   ]
  },
  {
   "cell_type": "code",
   "execution_count": 18,
   "metadata": {},
   "outputs": [],
   "source": [
    "def get_friends_with_sleep(user_id):\n",
    "    global requests_count\n",
    "    if requests_count == 3: # avoid making too many requests\n",
    "        requests_count = 0\n",
    "        time.sleep(1)\n",
    "\n",
    "    try:\n",
    "        friends = api.friends.get(user_id=user_id)\n",
    "        requests_count += 1\n",
    "        cache_dict[user_id] = friends\n",
    "    except vk.exceptions.VkAPIError as err:\n",
    "        if err.code == 6: # too many requests per second\n",
    "            time.sleep(2)\n",
    "            friends = get_friends_with_sleep(user_id)\n",
    "        else:\n",
    "            raise err\n",
    "    return friends"
   ]
  },
  {
   "cell_type": "code",
   "execution_count": 19,
   "metadata": {},
   "outputs": [],
   "source": [
    "def construct_graph(user_id, output_graph, api, waves=3):\n",
    "    output_graph.add_node(user_id)\n",
    "    if waves != 0:\n",
    "        global cache_dict\n",
    "        \n",
    "        if user_id in cache_dict:\n",
    "            friends = cache_dict[user_id]\n",
    "        else:\n",
    "            try:\n",
    "                friends = get_friends_with_sleep(user_id)\n",
    "                cache_dict[user_id] = friends\n",
    "            except vk.exceptions.VkAPIError as err:\n",
    "                if err.code == 18: # deleted or banned user\n",
    "                    output_graph.remove_node(user_id)\n",
    "                    friends = []\n",
    "            \n",
    "        for friend in friends:\n",
    "            if friend not in output_graph.nodes():\n",
    "                construct_graph(friend, output_graph, api, waves - 1)\n",
    "            output_graph.add_edge(user_id, friend)"
   ]
  },
  {
   "cell_type": "code",
   "execution_count": 21,
   "metadata": {
    "scrolled": true
   },
   "outputs": [],
   "source": [
    "# start with my id of 10938483 for now\n",
    "requests_count = 0\n",
    "main_graph = nx.DiGraph()\n",
    "start_id = 10938483\n",
    "construct_graph(start_id, main_graph, api)"
   ]
  },
  {
   "cell_type": "code",
   "execution_count": 22,
   "metadata": {
    "scrolled": true
   },
   "outputs": [
    {
     "data": {
      "text/plain": [
       "498290"
      ]
     },
     "execution_count": 22,
     "metadata": {},
     "output_type": "execute_result"
    }
   ],
   "source": [
    "len(main_graph.nodes())"
   ]
  },
  {
   "cell_type": "code",
   "execution_count": 23,
   "metadata": {},
   "outputs": [],
   "source": [
    "with open('graph_cache.json', 'w') as f:\n",
    "    json.dump(cache_dict, f)"
   ]
  },
  {
   "cell_type": "code",
   "execution_count": 28,
   "metadata": {},
   "outputs": [
    {
     "data": {
      "text/plain": [
       "<498290x498290 sparse matrix of type '<class 'numpy.int64'>'\n",
       "\twith 564850 stored elements in Compressed Sparse Row format>"
      ]
     },
     "execution_count": 28,
     "metadata": {},
     "output_type": "execute_result"
    }
   ],
   "source": [
    "nx.adjacency_matrix(main_graph)"
   ]
  },
  {
   "cell_type": "code",
   "execution_count": null,
   "metadata": {},
   "outputs": [],
   "source": []
  }
 ],
 "metadata": {
  "kernelspec": {
   "display_name": "Python 3",
   "language": "python",
   "name": "python3"
  },
  "language_info": {
   "codemirror_mode": {
    "name": "ipython",
    "version": 3
   },
   "file_extension": ".py",
   "mimetype": "text/x-python",
   "name": "python",
   "nbconvert_exporter": "python",
   "pygments_lexer": "ipython3",
   "version": "3.6.4"
  }
 },
 "nbformat": 4,
 "nbformat_minor": 2
}

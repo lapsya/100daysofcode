{
 "cells": [
  {
   "cell_type": "code",
   "execution_count": 32,
   "metadata": {},
   "outputs": [],
   "source": [
    "import time\n",
    "import json\n",
    "from functools import wraps\n",
    "from datetime import datetime\n",
    "from datetime import date\n",
    "from dateutil.relativedelta import relativedelta\n",
    "\n",
    "import vk\n",
    "import networkx as nx\n",
    "import matplotlib.pyplot as plt\n",
    "import scipy as sp\n",
    "import pandas as pd\n",
    "\n",
    "import numpy as np\n",
    "from numpy.linalg import norm\n",
    "\n",
    "from sklearn.cluster import SpectralClustering\n",
    "from sklearn.metrics import silhouette_score"
   ]
  },
  {
   "cell_type": "code",
   "execution_count": 4,
   "metadata": {},
   "outputs": [],
   "source": [
    "cache_filename = 'graph_vertex_cache.json'"
   ]
  },
  {
   "cell_type": "code",
   "execution_count": 34,
   "metadata": {},
   "outputs": [],
   "source": [
    "with open(\"author.txt\") as f:\n",
    "    login = f.readline().rstrip()\n",
    "    passwd = f.readline().rstrip()\n",
    "\n",
    "session = vk.AuthSession(app_id='6070120', user_login=login, user_password=passwd)\n",
    "\n",
    "api = vk.API(session)\n",
    "api_version = \"5.73\"\n",
    "\n",
    "\n",
    "requests_count = 0"
   ]
  },
  {
   "cell_type": "markdown",
   "metadata": {},
   "source": [
    "### Load graph dictionary from file if possible"
   ]
  },
  {
   "cell_type": "code",
   "execution_count": 6,
   "metadata": {},
   "outputs": [],
   "source": [
    "try:\n",
    "    cache_dict = json.load(open(cache_filename, 'r'))\n",
    "except FileNotFoundError:\n",
    "    cache_dict = {}\n",
    "    \n",
    "cache_dict = {int(k): val for k, val in cache_dict.items()}"
   ]
  },
  {
   "cell_type": "markdown",
   "metadata": {},
   "source": [
    "### Construct a graph"
   ]
  },
  {
   "cell_type": "code",
   "execution_count": 7,
   "metadata": {},
   "outputs": [],
   "source": [
    "# decorator that handles sleeping\n",
    "def vk_requester(request_func):\n",
    "    @wraps(request_func)\n",
    "    def wrapper(*args, **kwargs):\n",
    "        global requests_count\n",
    "        if requests_count == 3:\n",
    "            requests_count = 0\n",
    "            time.sleep(1)\n",
    "        try:\n",
    "            requests_count += 1\n",
    "            return_val = request_func(*args, **kwargs)\n",
    "        except vk.exceptions.VkAPIError as err:\n",
    "            if err.code in (6, 10): # too many requests per second or internal server error\n",
    "                time.sleep(1)\n",
    "                requests_count += 1\n",
    "                return_val = request_func(*args, **kwargs)\n",
    "            else:\n",
    "                raise err\n",
    "        return return_val\n",
    "    return wrapper"
   ]
  },
  {
   "cell_type": "code",
   "execution_count": 8,
   "metadata": {},
   "outputs": [],
   "source": [
    "def request_list(request_func):\n",
    "    @wraps(request_func)\n",
    "    def wrapper(*args, **kwargs):\n",
    "        return_val = request_func(*args, **kwargs)\n",
    "        if isinstance(return_val, list):\n",
    "            return return_val\n",
    "        else:\n",
    "            return list(return_val['items'])\n",
    "    return wrapper\n",
    "\n",
    "def handle_friends_exceptions(request_func):\n",
    "    @wraps(request_func)\n",
    "    def wrapper(*args, **kwargs):\n",
    "        try:\n",
    "            return_val = request_func(*args, **kwargs)\n",
    "        except vk.exceptions.VkAPIError as err:\n",
    "            if err.code == 18: # deleted or banned user\n",
    "                return_val = []\n",
    "            else:\n",
    "                raise err\n",
    "        return return_val\n",
    "    return wrapper"
   ]
  },
  {
   "cell_type": "code",
   "execution_count": 9,
   "metadata": {},
   "outputs": [],
   "source": [
    "@request_list\n",
    "@handle_friends_exceptions\n",
    "@vk_requester\n",
    "def get_friends(api, api_version, user_id):\n",
    "    return api.friends.get(user_id=user_id, v=api_version)"
   ]
  },
  {
   "cell_type": "code",
   "execution_count": 237,
   "metadata": {},
   "outputs": [],
   "source": [
    "def construct_graph(user_id, output_graph, api, waves=3):\n",
    "    output_graph.add_node(user_id)\n",
    "    \n",
    "    # request friends\n",
    "    global cache_dict\n",
    "\n",
    "    if user_id in cache_dict:\n",
    "        friends = cache_dict[user_id]\n",
    "    else:\n",
    "        #print(\"{} not found in cache\".format(user_id))\n",
    "        friends = get_friends(api, api_version, user_id)\n",
    "        cache_dict[user_id] = friends\n",
    "\n",
    "    # add each friendship and dive deeper\n",
    "    for friend in friends:\n",
    "        friend_in_graph = friend in output_graph.nodes()\n",
    "        if waves != 0 and not friend_in_graph:\n",
    "            global nodes_waves\n",
    "            nodes_waves[waves - 1].append(friend)\n",
    "\n",
    "            construct_graph(friend, output_graph, api, waves - 1)\n",
    "\n",
    "        if waves == 0 and not friend_in_graph:\n",
    "            continue\n",
    "\n",
    "        output_graph.add_edge(user_id, friend)\n"
   ]
  },
  {
   "cell_type": "code",
   "execution_count": 11,
   "metadata": {},
   "outputs": [],
   "source": [
    "class MyCoolException(Exception):\n",
    "    pass"
   ]
  },
  {
   "cell_type": "code",
   "execution_count": 14,
   "metadata": {},
   "outputs": [],
   "source": [
    "start_id = 10938483 # my id\n",
    "waves = 4"
   ]
  },
  {
   "cell_type": "code",
   "execution_count": null,
   "metadata": {
    "scrolled": true
   },
   "outputs": [],
   "source": [
    "%%time\n",
    "main_graph = nx.Graph()\n",
    "nodes_waves = {wave: [] for wave in range(waves + 1)}\n",
    "\n",
    "while True:\n",
    "    try:\n",
    "        construct_graph(start_id, main_graph, api, waves)\n",
    "        raise MyCoolException()\n",
    "    except Exception as err:\n",
    "        if isinstance(err, MyCoolException):\n",
    "            break\n",
    "\n",
    "            \n",
    "#graph_from_cache(start_id, main_graph)\n",
    "\n",
    "nodes_waves = {waves - key: val for key, val in nodes_waves.items()}"
   ]
  },
  {
   "cell_type": "code",
   "execution_count": 25,
   "metadata": {
    "scrolled": false
   },
   "outputs": [
    {
     "data": {
      "text/plain": [
       "6404472"
      ]
     },
     "execution_count": 25,
     "metadata": {},
     "output_type": "execute_result"
    }
   ],
   "source": [
    "len(main_graph.nodes())"
   ]
  },
  {
   "cell_type": "code",
   "execution_count": 77,
   "metadata": {},
   "outputs": [],
   "source": [
    "'''\n",
    "with open(cache_filename, 'w') as f:\n",
    "    json.dump(cache_dict, f)\n",
    "'''"
   ]
  },
  {
   "cell_type": "code",
   "execution_count": 232,
   "metadata": {},
   "outputs": [],
   "source": [
    "def graph_from_cache(user_id, output_graph, waves=3):\n",
    "    global nodes_waves\n",
    "    \n",
    "    output_graph.add_node(user_id)\n",
    "    \n",
    "    if user_id in cache_dict:\n",
    "        friends = cache_dict[user_id]\n",
    "        for friend in friends:\n",
    "            friend_in_graph = friend in output_graph.nodes()\n",
    "            if waves != 0 and not friend_in_graph:\n",
    "                global nodes_waves\n",
    "                nodes_waves[waves - 1].append(friend)\n",
    "                \n",
    "                graph_from_cache(friend, output_graph, waves - 1)\n",
    "            \n",
    "            if waves == 0 and not friend_in_graph:\n",
    "                continue\n",
    "                \n",
    "            output_graph.add_edge(user_id, friend)"
   ]
  },
  {
   "cell_type": "code",
   "execution_count": 233,
   "metadata": {},
   "outputs": [
    {
     "name": "stdout",
     "output_type": "stream",
     "text": [
      "CPU times: user 472 ms, sys: 31.2 ms, total: 503 ms\n",
      "Wall time: 952 ms\n"
     ]
    }
   ],
   "source": [
    "%%time\n",
    "\n",
    "waves = 2\n",
    "nodes_waves = {wave: [] for wave in range(waves + 1)}\n",
    "\n",
    "graph_piece = nx.Graph()\n",
    "graph_from_cache(start_id, graph_piece, waves)\n",
    "\n",
    "nodes_waves = {waves - key: val for key, val in nodes_waves.items()}\n",
    "nodes_waves[0] = [start_id]"
   ]
  },
  {
   "cell_type": "code",
   "execution_count": null,
   "metadata": {},
   "outputs": [],
   "source": [
    "main_graph = nx.Graph()\n",
    "graph_from_cache(start_id, main_graph, 4)"
   ]
  },
  {
   "cell_type": "code",
   "execution_count": 167,
   "metadata": {},
   "outputs": [
    {
     "data": {
      "text/plain": [
       "1"
      ]
     },
     "execution_count": 167,
     "metadata": {},
     "output_type": "execute_result"
    }
   ],
   "source": [
    "len(main_graph)"
   ]
  },
  {
   "cell_type": "code",
   "execution_count": 229,
   "metadata": {},
   "outputs": [
    {
     "data": {
      "text/plain": [
       "3689"
      ]
     },
     "execution_count": 229,
     "metadata": {},
     "output_type": "execute_result"
    }
   ],
   "source": [
    "len(graph_piece)"
   ]
  },
  {
   "cell_type": "markdown",
   "metadata": {},
   "source": [
    "### Visualize the graph"
   ]
  },
  {
   "cell_type": "code",
   "execution_count": 235,
   "metadata": {},
   "outputs": [
    {
     "name": "stdout",
     "output_type": "stream",
     "text": [
      "CPU times: user 3.84 ms, sys: 7.82 ms, total: 11.7 ms\n",
      "Wall time: 21.8 ms\n"
     ]
    }
   ],
   "source": [
    "%%time\n",
    "pos=nx.shell_layout(graph_piece, list(map(lambda x: x[1], sorted(nodes_waves.items(), reverse=True))))"
   ]
  },
  {
   "cell_type": "code",
   "execution_count": 163,
   "metadata": {},
   "outputs": [],
   "source": [
    "colors = ['#f20000', '#f0e000', '#097505', '#07edb3', '#0791ed', '#0716ed', '#9d08a8']"
   ]
  },
  {
   "cell_type": "code",
   "execution_count": 253,
   "metadata": {},
   "outputs": [
    {
     "name": "stdout",
     "output_type": "stream",
     "text": [
      "CPU times: user 1.13 s, sys: 268 ms, total: 1.4 s\n",
      "Wall time: 1 s\n"
     ]
    },
    {
     "data": {
      "image/png": "[encoded data removed]",
      "text/plain": [
       "<Figure size 432x288 with 1 Axes>"
      ]
     },
     "metadata": {},
     "output_type": "display_data"
    }
   ],
   "source": [
    "%%time\n",
    "#nx.draw(main_graph, pos=pos, node_color='pink', edge_color='black', node_size=1)\n",
    "\n",
    "def draw_graph_waves(graph, pos, nodes_waves, filename):\n",
    "    for wave, nodes in sorted(nodes_waves.items(), reverse=True):\n",
    "        nx.draw_networkx_nodes(graph, pos, nodelist=nodes, node_color=colors[wave], node_size=5 - 2 * wave)\n",
    "    nx.draw_networkx_edges(graph, pos, width=0.5, alpha=0.5)\n",
    "\n",
    "    plt.axis('off')\n",
    "    plt.savefig(\"{}.pdf\".format(filename), orientation='portrait', transparent=False, bbox_inches=None, pad_inches=0.1) \n",
    "\n",
    "draw_graph_waves(graph_piece, pos, nodes_waves, 'graph')"
   ]
  },
  {
   "cell_type": "markdown",
   "metadata": {},
   "source": [
    "### Form dataset from graph nodes"
   ]
  },
  {
   "cell_type": "code",
   "execution_count": 27,
   "metadata": {},
   "outputs": [],
   "source": [
    "@vk_requester\n",
    "def get_users(api, api_version, user_ids, fields):\n",
    "    return api.users.get(user_ids=user_ids, fields=fields, v=api_version)"
   ]
  },
  {
   "cell_type": "code",
   "execution_count": 28,
   "metadata": {},
   "outputs": [],
   "source": [
    "@request_list\n",
    "@vk_requester\n",
    "def get_groups(api, api_version, user_ids, fields):\n",
    "    return api.groups.get(user_ids=user_ids, extended=1, fields=fields, v=api_version)"
   ]
  },
  {
   "cell_type": "code",
   "execution_count": 223,
   "metadata": {},
   "outputs": [],
   "source": [
    "features_fields = ['uid', 'first_name', 'last_name', 'deactivated', \n",
    "                   'bdate', 'city', 'country', 'home_town', \n",
    "                   'universities', 'schools', 'relation', 'counters']\n",
    "counters = ['audios', 'friends', 'photos', 'videos', 'groups']\n",
    "\n",
    "features = ['first_name', 'last_name', 'is_active', 'age', 'education', \n",
    "            'has_age', 'has_education', 'has_location'] \n",
    "features += list(map(lambda x: 'cnt_{}'.format(x), counters)) + ['avg_group_size', 'avg_friend_degree', 'wave']\n",
    "\n",
    "def create_dataset(graph, nodes_data):\n",
    "    node_ids = list(graph.nodes())\n",
    "    for node_id in node_ids:\n",
    "        \n",
    "        if node_id in nodes_data.index:\n",
    "            continue\n",
    "            \n",
    "        user = get_users(api, api_version, node_id, features_fields)[0]\n",
    "\n",
    "        f = {feature: np.nan for feature in nodes_data.columns}\n",
    "        # generate features from acquired fields\n",
    "        if 'first_name' in user:\n",
    "            f['first_name'] = user['first_name']\n",
    "\n",
    "        if 'last_name' in user:\n",
    "            f['last_name'] = user['last_name']\n",
    "\n",
    "        if 'deactivated' in user:\n",
    "            f['is_active'] = 0\n",
    "\n",
    "        if 'bdate' in user:\n",
    "            try:\n",
    "                f['age'] = relativedelta(date.today(), datetime.strptime(user['bdate'], '%d.%m.%Y').date()).years\n",
    "            except:\n",
    "                pass\n",
    "            f['has_age'] = 1\n",
    "        else:\n",
    "            f['has_age'] = 0\n",
    "\n",
    "        if 'universities' in user:\n",
    "            f['education'] = 'higher'\n",
    "            f['has_education'] = 1\n",
    "        elif 'schools' in user:\n",
    "            f['education'] = 'secondary'\n",
    "            f['has_education'] = 1\n",
    "        else:\n",
    "            f['has_education'] = 0\n",
    "\n",
    "        if any (field in user for field in ('city', 'country', 'home_town')):\n",
    "            f['has_location'] = 1\n",
    "        else:\n",
    "            f['has_location'] = 0\n",
    "\n",
    "        if 'counters' in user:\n",
    "            for counter in counters:\n",
    "                if counter in user['counters']:\n",
    "                    f['cnt_{}'.format(counter)] = user['counters'][counter]\n",
    "\n",
    "        groups = get_groups(api, api_version, node_id, fields=['gid', 'members_count'])\n",
    "        groups = list(group['members_count'] for group in groups if 'members_count' in group)\n",
    "        f['avg_group_size'] = sum(groups) / len(groups)\n",
    "\n",
    "        neighbours_degrees = list(map(lambda x: graph.degree[x], list(graph.neighbors(node_id))))\n",
    "        f['avg_friend_degree'] = sum(neighbours_degrees) / len(neighbours_degrees)\n",
    "        \n",
    "        f['wave'] = [wave for wave, nodes in nodes_waves.items() if node_id in nodes][0]\n",
    "        \n",
    "        nodes_data.loc[node_id] = tuple(f[key] for key in features)"
   ]
  },
  {
   "cell_type": "code",
   "execution_count": 77,
   "metadata": {},
   "outputs": [],
   "source": [
    "nodes_data = pd.DataFrame(columns=features)"
   ]
  },
  {
   "cell_type": "code",
   "execution_count": 224,
   "metadata": {},
   "outputs": [
    {
     "name": "stdout",
     "output_type": "stream",
     "text": [
      "CPU times: user 1.42 s, sys: 93 µs, total: 1.42 s\n",
      "Wall time: 1.42 s\n"
     ]
    }
   ],
   "source": [
    "%%time\n",
    "create_dataset(graph_piece, nodes_data)"
   ]
  },
  {
   "cell_type": "code",
   "execution_count": 225,
   "metadata": {},
   "outputs": [
    {
     "data": {
      "text/html": [
       "<div>\n",
       "<style scoped>\n",
       "    .dataframe tbody tr th:only-of-type {\n",
       "        vertical-align: middle;\n",
       "    }\n",
       "\n",
       "    .dataframe tbody tr th {\n",
       "        vertical-align: top;\n",
       "    }\n",
       "\n",
       "    .dataframe thead th {\n",
       "        text-align: right;\n",
       "    }\n",
       "</style>\n",
       "<table border=\"1\" class=\"dataframe\">\n",
       "  <thead>\n",
       "    <tr style=\"text-align: right;\">\n",
       "      <th></th>\n",
       "      <th>first_name</th>\n",
       "      <th>last_name</th>\n",
       "      <th>is_active</th>\n",
       "      <th>age</th>\n",
       "      <th>education</th>\n",
       "      <th>has_age</th>\n",
       "      <th>has_education</th>\n",
       "      <th>has_location</th>\n",
       "      <th>cnt_audios</th>\n",
       "      <th>cnt_friends</th>\n",
       "      <th>cnt_photos</th>\n",
       "      <th>cnt_videos</th>\n",
       "      <th>cnt_groups</th>\n",
       "      <th>avg_group_size</th>\n",
       "      <th>avg_friend_degree</th>\n",
       "      <th>wave</th>\n",
       "    </tr>\n",
       "  </thead>\n",
       "  <tbody>\n",
       "    <tr>\n",
       "      <th>10938483</th>\n",
       "      <td>Maria</td>\n",
       "      <td>Sindeeva</td>\n",
       "      <td>NaN</td>\n",
       "      <td>20</td>\n",
       "      <td>higher</td>\n",
       "      <td>1</td>\n",
       "      <td>1</td>\n",
       "      <td>1</td>\n",
       "      <td>681</td>\n",
       "      <td>115</td>\n",
       "      <td>284</td>\n",
       "      <td>27</td>\n",
       "      <td>51</td>\n",
       "      <td>58860.173913</td>\n",
       "      <td>35.313043</td>\n",
       "      <td>0.0</td>\n",
       "    </tr>\n",
       "    <tr>\n",
       "      <th>280452</th>\n",
       "      <td>Lilya</td>\n",
       "      <td>Kozlova</td>\n",
       "      <td>NaN</td>\n",
       "      <td>NaN</td>\n",
       "      <td>higher</td>\n",
       "      <td>0</td>\n",
       "      <td>1</td>\n",
       "      <td>1</td>\n",
       "      <td>0</td>\n",
       "      <td>960</td>\n",
       "      <td>60</td>\n",
       "      <td>211</td>\n",
       "      <td>NaN</td>\n",
       "      <td>58860.173913</td>\n",
       "      <td>1.119247</td>\n",
       "      <td>1.0</td>\n",
       "    </tr>\n",
       "    <tr>\n",
       "      <th>5033</th>\n",
       "      <td>Anastasia</td>\n",
       "      <td>Vlasova</td>\n",
       "      <td>NaN</td>\n",
       "      <td>117</td>\n",
       "      <td>NaN</td>\n",
       "      <td>1</td>\n",
       "      <td>0</td>\n",
       "      <td>1</td>\n",
       "      <td>0</td>\n",
       "      <td>285</td>\n",
       "      <td>550</td>\n",
       "      <td>58</td>\n",
       "      <td>NaN</td>\n",
       "      <td>58860.173913</td>\n",
       "      <td>956.000000</td>\n",
       "      <td>2.0</td>\n",
       "    </tr>\n",
       "    <tr>\n",
       "      <th>7523</th>\n",
       "      <td>Lena</td>\n",
       "      <td>Linkova</td>\n",
       "      <td>NaN</td>\n",
       "      <td>117</td>\n",
       "      <td>NaN</td>\n",
       "      <td>1</td>\n",
       "      <td>0</td>\n",
       "      <td>1</td>\n",
       "      <td>135</td>\n",
       "      <td>659</td>\n",
       "      <td>1021</td>\n",
       "      <td>26</td>\n",
       "      <td>NaN</td>\n",
       "      <td>58860.173913</td>\n",
       "      <td>956.000000</td>\n",
       "      <td>2.0</td>\n",
       "    </tr>\n",
       "    <tr>\n",
       "      <th>11797</th>\n",
       "      <td>Anna</td>\n",
       "      <td>Ivanova</td>\n",
       "      <td>NaN</td>\n",
       "      <td>28</td>\n",
       "      <td>NaN</td>\n",
       "      <td>1</td>\n",
       "      <td>0</td>\n",
       "      <td>1</td>\n",
       "      <td>172</td>\n",
       "      <td>375</td>\n",
       "      <td>158</td>\n",
       "      <td>11</td>\n",
       "      <td>82</td>\n",
       "      <td>58860.173913</td>\n",
       "      <td>956.000000</td>\n",
       "      <td>2.0</td>\n",
       "    </tr>\n",
       "  </tbody>\n",
       "</table>\n",
       "</div>"
      ],
      "text/plain": [
       "         first_name last_name  is_active  age education has_age has_education  \\\n",
       "10938483      Maria  Sindeeva        NaN   20    higher       1             1   \n",
       "280452        Lilya   Kozlova        NaN  NaN    higher       0             1   \n",
       "5033      Anastasia   Vlasova        NaN  117       NaN       1             0   \n",
       "7523           Lena   Linkova        NaN  117       NaN       1             0   \n",
       "11797          Anna   Ivanova        NaN   28       NaN       1             0   \n",
       "\n",
       "         has_location cnt_audios cnt_friends cnt_photos cnt_videos cnt_groups  \\\n",
       "10938483            1        681         115        284         27         51   \n",
       "280452              1          0         960         60        211        NaN   \n",
       "5033                1          0         285        550         58        NaN   \n",
       "7523                1        135         659       1021         26        NaN   \n",
       "11797               1        172         375        158         11         82   \n",
       "\n",
       "          avg_group_size  avg_friend_degree  wave  \n",
       "10938483    58860.173913          35.313043   0.0  \n",
       "280452      58860.173913           1.119247   1.0  \n",
       "5033        58860.173913         956.000000   2.0  \n",
       "7523        58860.173913         956.000000   2.0  \n",
       "11797       58860.173913         956.000000   2.0  "
      ]
     },
     "execution_count": 225,
     "metadata": {},
     "output_type": "execute_result"
    }
   ],
   "source": [
    "nodes_data.head()"
   ]
  },
  {
   "cell_type": "code",
   "execution_count": null,
   "metadata": {},
   "outputs": [],
   "source": [
    "%%time\n",
    "while True:\n",
    "    try:\n",
    "        create_dataset(graph_2waves, nodes_data)\n",
    "        raise MyCoolException()\n",
    "    except Exception as err:\n",
    "        if isinstance(err, MyCoolException):\n",
    "            break"
   ]
  },
  {
   "cell_type": "markdown",
   "metadata": {},
   "source": [
    "### Apply clustering to the data"
   ]
  },
  {
   "cell_type": "code",
   "execution_count": 246,
   "metadata": {},
   "outputs": [],
   "source": [
    "def spectral_cluster(graph, k_clusters):\n",
    "    adjacency = nx.adjacency_matrix(graph)\n",
    "\n",
    "    cl = SpectralClustering(n_clusters=k_clusters, affinity='precomputed').fit(adjacency)\n",
    "    \n",
    "    labels_nodes = {}\n",
    "    for label in cl.labels_:\n",
    "        labels_nodes[label] = [node_id for ind, node_id in enumerate(graph.nodes()) if cl.labels_[ind] == label]\n",
    "        \n",
    "    return labels_nodes"
   ]
  },
  {
   "cell_type": "code",
   "execution_count": 255,
   "metadata": {},
   "outputs": [
    {
     "name": "stdout",
     "output_type": "stream",
     "text": [
      "CPU times: user 3.82 s, sys: 1.64 s, total: 5.45 s\n",
      "Wall time: 3.33 s\n"
     ]
    }
   ],
   "source": [
    "%%time\n",
    "labels_nodes = spectral_cluster(graph_piece, 3)"
   ]
  },
  {
   "cell_type": "code",
   "execution_count": 258,
   "metadata": {},
   "outputs": [
    {
     "data": {
      "text/plain": [
       "{0: 3687, 1: 1, 2: 1}"
      ]
     },
     "execution_count": 258,
     "metadata": {},
     "output_type": "execute_result"
    }
   ],
   "source": [
    "{label: len(nodes) for label, nodes in labels_nodes.items()}"
   ]
  },
  {
   "cell_type": "code",
   "execution_count": 259,
   "metadata": {},
   "outputs": [
    {
     "data": {
      "image/png": "[encoded data removed]",
      "text/plain": [
       "<Figure size 432x288 with 1 Axes>"
      ]
     },
     "metadata": {},
     "output_type": "display_data"
    }
   ],
   "source": [
    "draw_graph_waves(graph_piece, pos, labels_nodes, 'graph_3')"
   ]
  },
  {
   "cell_type": "code",
   "execution_count": null,
   "metadata": {},
   "outputs": [],
   "source": [
    "%%time\n",
    "#adjacency = smth\n",
    "    \n",
    "'''\n",
    "silhouettes = {}\n",
    "for k in range(2, 10):\n",
    "    fit_clustering = SpectralClustering(n_clusters=k, affinity='precomputed').fit(adjacency)\n",
    "    silhouettes[k] = (silhouette(k, adjacency, fit_clustering.labels_), fit_clustering)\n",
    "'''\n",
    "\n",
    "clusterings = []\n",
    "for k in range(2, 10):\n",
    "    cl = SpectralClustering(n_clusters=k, affinity='precomputed').fit(adjacency)\n",
    "    \n",
    "    labels_nodes = {}\n",
    "    for label in cl.labels_:\n",
    "        labels_nodes[label] = [node_id for ind, node_id in enumerate(main_graph.nodes()) if cl.labels_[ind] == label]\n",
    "    \n",
    "    \n",
    "print(max(clusterings, key = lambda clustering: silhouette_score(adjacency, clustering.labels_)))"
   ]
  },
  {
   "cell_type": "code",
   "execution_count": 49,
   "metadata": {},
   "outputs": [
    {
     "data": {
      "text/plain": [
       "[SpectralClustering(affinity='precomputed', assign_labels='kmeans', coef0=1,\n",
       "           degree=3, eigen_solver=None, eigen_tol=0.0, gamma=1.0,\n",
       "           kernel_params=None, n_clusters=2, n_init=10, n_jobs=1,\n",
       "           n_neighbors=10, random_state=None),\n",
       " SpectralClustering(affinity='precomputed', assign_labels='kmeans', coef0=1,\n",
       "           degree=3, eigen_solver=None, eigen_tol=0.0, gamma=1.0,\n",
       "           kernel_params=None, n_clusters=3, n_init=10, n_jobs=1,\n",
       "           n_neighbors=10, random_state=None),\n",
       " SpectralClustering(affinity='precomputed', assign_labels='kmeans', coef0=1,\n",
       "           degree=3, eigen_solver=None, eigen_tol=0.0, gamma=1.0,\n",
       "           kernel_params=None, n_clusters=4, n_init=10, n_jobs=1,\n",
       "           n_neighbors=10, random_state=None),\n",
       " SpectralClustering(affinity='precomputed', assign_labels='kmeans', coef0=1,\n",
       "           degree=3, eigen_solver=None, eigen_tol=0.0, gamma=1.0,\n",
       "           kernel_params=None, n_clusters=5, n_init=10, n_jobs=1,\n",
       "           n_neighbors=10, random_state=None),\n",
       " SpectralClustering(affinity='precomputed', assign_labels='kmeans', coef0=1,\n",
       "           degree=3, eigen_solver=None, eigen_tol=0.0, gamma=1.0,\n",
       "           kernel_params=None, n_clusters=6, n_init=10, n_jobs=1,\n",
       "           n_neighbors=10, random_state=None),\n",
       " SpectralClustering(affinity='precomputed', assign_labels='kmeans', coef0=1,\n",
       "           degree=3, eigen_solver=None, eigen_tol=0.0, gamma=1.0,\n",
       "           kernel_params=None, n_clusters=7, n_init=10, n_jobs=1,\n",
       "           n_neighbors=10, random_state=None),\n",
       " SpectralClustering(affinity='precomputed', assign_labels='kmeans', coef0=1,\n",
       "           degree=3, eigen_solver=None, eigen_tol=0.0, gamma=1.0,\n",
       "           kernel_params=None, n_clusters=8, n_init=10, n_jobs=1,\n",
       "           n_neighbors=10, random_state=None),\n",
       " SpectralClustering(affinity='precomputed', assign_labels='kmeans', coef0=1,\n",
       "           degree=3, eigen_solver=None, eigen_tol=0.0, gamma=1.0,\n",
       "           kernel_params=None, n_clusters=9, n_init=10, n_jobs=1,\n",
       "           n_neighbors=10, random_state=None)]"
      ]
     },
     "execution_count": 49,
     "metadata": {},
     "output_type": "execute_result"
    }
   ],
   "source": [
    "clusterings"
   ]
  },
  {
   "cell_type": "code",
   "execution_count": 29,
   "metadata": {},
   "outputs": [],
   "source": [
    "'''\n",
    "DEPRECATED IN FAVOUR OF DECORATORS\n",
    "'''\n",
    "def get_friends_with_sleep(user_id):\n",
    "    global requests_count\n",
    "    if requests_count == 3: # avoid making too many requests\n",
    "        requests_count = 0\n",
    "        time.sleep(1)\n",
    "\n",
    "    try:\n",
    "        friends = api.friends.get(user_id=user_id, v=api_version)\n",
    "        requests_count += 1\n",
    "    except vk.exceptions.VkAPIError as err:\n",
    "        if err.code in (6, 10): # too many requests per second or internal server error\n",
    "            time.sleep(1)\n",
    "            friends = get_friends_with_sleep(user_id)\n",
    "        else:\n",
    "            raise err\n",
    "    if isinstance(friends, list):\n",
    "        return friends\n",
    "    return friends['items']"
   ]
  },
  {
   "cell_type": "code",
   "execution_count": 36,
   "metadata": {},
   "outputs": [],
   "source": [
    "'''\n",
    "DEPRECATED\n",
    "'''\n",
    "\n",
    "def silhouette(k_clusters, data, labels):\n",
    "    \n",
    "    s = []\n",
    "    for vec_ind, vec in enumerate(data):\n",
    "        vec_cluster = labels[vec_ind]\n",
    "        b_i = []\n",
    "        a_i = 0\n",
    "        for cl_num in range(k_clusters):\n",
    "            metric = np.average([norm(vec - cl_vec) for cl_vec_ind, cl_vec in enumerate(data) if labels[cl_vec_ind] == cl_num])\n",
    "            if vec_cluster == cl_num:\n",
    "                a_i = metric\n",
    "            else:\n",
    "                b_i.append(metric)\n",
    "        b_i = min(b_i)\n",
    "        \n",
    "        s_i = (b_i - a_i) / max(a_i, b_i)\n",
    "        s.append(s_i)\n",
    "    \n",
    "    return np.average(s)"
   ]
  }
 ],
 "metadata": {
  "kernelspec": {
   "display_name": "Python 3",
   "language": "python",
   "name": "python3"
  },
  "language_info": {
   "codemirror_mode": {
    "name": "ipython",
    "version": 3
   },
   "file_extension": ".py",
   "mimetype": "text/x-python",
   "name": "python",
   "nbconvert_exporter": "python",
   "pygments_lexer": "ipython3",
   "version": "3.6.4"
  }
 },
 "nbformat": 4,
 "nbformat_minor": 2
}

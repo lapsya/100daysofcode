{
 "cells": [
  {
   "cell_type": "code",
   "execution_count": 1,
   "metadata": {},
   "outputs": [],
   "source": [
    "import time\n",
    "import json\n",
    "\n",
    "import vk\n",
    "import networkx as nx\n",
    "import matplotlib.pyplot as plt\n",
    "import scipy as sp\n",
    "from sklearn.cluster import SpectralClustering\n",
    "from sklearn.metrics import silhouette_score"
   ]
  },
  {
   "cell_type": "code",
   "execution_count": 2,
   "metadata": {},
   "outputs": [],
   "source": [
    "cache_filename = 'graph_vertex_cache.json'"
   ]
  },
  {
   "cell_type": "code",
   "execution_count": 3,
   "metadata": {},
   "outputs": [],
   "source": [
    "with open(\"author.txt\") as f:\n",
    "    login = f.readline().rstrip()\n",
    "    passwd = f.readline().rstrip()\n",
    "\n",
    "session = vk.AuthSession(app_id='6070120', user_login=login, user_password=passwd)\n",
    "\n",
    "api = vk.API(session)\n",
    "api_version = \"5.73\""
   ]
  },
  {
   "cell_type": "code",
   "execution_count": 4,
   "metadata": {},
   "outputs": [],
   "source": [
    "try:\n",
    "    cache_dict = json.load(open(cache_filename, 'r'))\n",
    "except FileNotFoundError:\n",
    "    cache_dict = {}"
   ]
  },
  {
   "cell_type": "code",
   "execution_count": 12,
   "metadata": {},
   "outputs": [],
   "source": [
    "cache_dict = {int(k): val for k, val in cache_dict.items()}"
   ]
  },
  {
   "cell_type": "code",
   "execution_count": 8,
   "metadata": {},
   "outputs": [],
   "source": [
    "def get_friends_with_sleep(user_id):\n",
    "    global requests_count\n",
    "    if requests_count == 3: # avoid making too many requests\n",
    "        requests_count = 0\n",
    "        time.sleep(1)\n",
    "\n",
    "    try:\n",
    "        friends = api.friends.get(user_id=user_id, v=api_version)\n",
    "        requests_count += 1\n",
    "    except vk.exceptions.VkAPIError as err:\n",
    "        if err.code == 6: # too many requests per second\n",
    "            time.sleep(2)\n",
    "            friends = get_friends_with_sleep(user_id)\n",
    "        else:\n",
    "            raise err\n",
    "    if isinstance(friends, list):\n",
    "        return friends\n",
    "    return friends['items']"
   ]
  },
  {
   "cell_type": "code",
   "execution_count": 9,
   "metadata": {},
   "outputs": [],
   "source": [
    "def construct_graph(user_id, output_graph, api, waves=3):\n",
    "    output_graph.add_node(user_id)\n",
    "    if waves != 0:\n",
    "        global cache_dict\n",
    "        \n",
    "        if user_id in cache_dict:\n",
    "            friends = cache_dict[user_id]\n",
    "        else:\n",
    "            try:\n",
    "                friends = get_friends_with_sleep(user_id)\n",
    "                cache_dict[user_id] = friends\n",
    "            except vk.exceptions.VkAPIError as err: \n",
    "                if err.code == 18: # deleted or banned user\n",
    "                    output_graph.remove_node(user_id)\n",
    "                    friends = []\n",
    "                else:\n",
    "                    raise err\n",
    "            \n",
    "        for friend in friends:\n",
    "            if friend not in output_graph.nodes():\n",
    "                construct_graph(friend, output_graph, api, waves - 1)\n",
    "            if friend in output_graph.nodes():\n",
    "                output_graph.add_edge(user_id, friend)"
   ]
  },
  {
   "cell_type": "code",
   "execution_count": 10,
   "metadata": {},
   "outputs": [],
   "source": [
    "def graph_from_cache(user_id, output_graph):\n",
    "    output_graph.add_node(user_id)\n",
    "    \n",
    "    if user_id in cache_dict:\n",
    "        friends = cache_dict[user_id]\n",
    "        \n",
    "        for friend in friends:\n",
    "            if friend not in output_graph.nodes():\n",
    "                graph_from_cache(friend, output_graph)\n",
    "            output_graph.add_edge(user_id, friend)"
   ]
  },
  {
   "cell_type": "code",
   "execution_count": 15,
   "metadata": {
    "scrolled": true
   },
   "outputs": [],
   "source": [
    "# start with my id of 10938483 for now\n",
    "requests_count = 0\n",
    "main_graph = nx.Graph()\n",
    "start_id = 10938483\n",
    "graph_from_cache(start_id, main_graph)\n",
    "#construct_graph(start_id, main_graph, api, 4)"
   ]
  },
  {
   "cell_type": "code",
   "execution_count": 16,
   "metadata": {
    "scrolled": false
   },
   "outputs": [
    {
     "data": {
      "text/plain": [
       "1863819"
      ]
     },
     "execution_count": 16,
     "metadata": {},
     "output_type": "execute_result"
    }
   ],
   "source": [
    "len(main_graph.nodes())"
   ]
  },
  {
   "cell_type": "code",
   "execution_count": 33,
   "metadata": {},
   "outputs": [],
   "source": [
    "with open(cache_filename, 'w') as f:\n",
    "    json.dump(cache_dict, f)"
   ]
  },
  {
   "cell_type": "code",
   "execution_count": 18,
   "metadata": {},
   "outputs": [],
   "source": [
    "adjacency = nx.adjacency_matrix(main_graph)"
   ]
  },
  {
   "cell_type": "code",
   "execution_count": 19,
   "metadata": {},
   "outputs": [],
   "source": [
    "def silhouette(k_clusters, data, labels):\n",
    "    labels_dict = dict(zip(data, labels))\n",
    "    \n",
    "    s = []\n",
    "    for vec in data:\n",
    "        vec_cluster = labels_dict[vec]\n",
    "        b_i = []\n",
    "        a_i = 0\n",
    "        for cl_num in range(k_clusters):\n",
    "            if vec_cluster == cl_num:\n",
    "                a_i = np.average([norm(vec - cl_vec) for cl_vec in data if labels_dict[cl_vec] == cl_num])\n",
    "            else:\n",
    "                b_i.append(np.average([norm(vec - cl_vec) for cl_vec in data if labels_dict[cl_vec] == cl_num]))\n",
    "        b_i = min(b_i)\n",
    "        \n",
    "        s_i = (b_i - a_i) / max(a_i, b_i)\n",
    "        s.append(s_i)\n",
    "    \n",
    "    return np.average(s)"
   ]
  },
  {
   "cell_type": "code",
   "execution_count": null,
   "metadata": {},
   "outputs": [],
   "source": [
    "#adjacency = smth\n",
    "    \n",
    "'''\n",
    "silhouettes = {}\n",
    "for k in range(2, 10):\n",
    "    fit_clustering = SpectralClustering(n_clusters=k, affinity='precomputed').fit(adjacency)\n",
    "    silhouettes[k] = (silhouette(k, adjacency, fit_clustering.labels_), fit_clustering)\n",
    "'''\n",
    "\n",
    "silhouettes = {k: SpectralClustering(n_clusters=k, affinity='precomputed').fit(adjacency) for k in range(2, 10)}\n",
    "print(max(silhouettes, key = lambda k: silhouette(k, adjacency, silhouettes[k].labels_)))"
   ]
  }
 ],
 "metadata": {
  "kernelspec": {
   "display_name": "Python 3",
   "language": "python",
   "name": "python3"
  },
  "language_info": {
   "codemirror_mode": {
    "name": "ipython",
    "version": 3
   },
   "file_extension": ".py",
   "mimetype": "text/x-python",
   "name": "python",
   "nbconvert_exporter": "python",
   "pygments_lexer": "ipython3",
   "version": "3.6.4"
  }
 },
 "nbformat": 4,
 "nbformat_minor": 2
}

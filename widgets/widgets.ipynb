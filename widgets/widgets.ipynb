{
 "cells": [
  {
   "cell_type": "code",
   "execution_count": 29,
   "metadata": {},
   "outputs": [],
   "source": [
    "%matplotlib inline\n",
    "import ipywidgets as widgets\n",
    "import pandas as pd\n",
    "import numpy as np"
   ]
  },
  {
   "cell_type": "code",
   "execution_count": 7,
   "metadata": {},
   "outputs": [],
   "source": [
    "data = pd.read_csv('train.csv')"
   ]
  },
  {
   "cell_type": "code",
   "execution_count": 50,
   "metadata": {},
   "outputs": [],
   "source": [
    "analysis_columns = [col for col in data.columns if col[:5].upper() != 'DTIME' and col[:4] != 'TEXT']"
   ]
  },
  {
   "cell_type": "code",
   "execution_count": 51,
   "metadata": {},
   "outputs": [],
   "source": [
    "class Layout:\n",
    "    def __init__(self, df, columns):\n",
    "        self.df = df\n",
    "        self.columns = columns\n",
    "        \n",
    "    def tab_layout(self, col):\n",
    "        if col not in self.columns:\n",
    "            raise IndexError('Layout column not in specified DataFrame')\n",
    "        \n",
    "        if self.df[col].dtype == 'O':\n",
    "            categories = np.unique(self.df[col])\n",
    "            return widgets.SelectMultiple(\n",
    "                    options=categories,\n",
    "                    disabled=False,\n",
    "                    readout=True)\n",
    "        else:\n",
    "            return widgets.FloatSlider(\n",
    "                    value=7.5,\n",
    "                    min=self.df[col].min(),\n",
    "                    max=self.df[col].max(),\n",
    "                    step=0.1,\n",
    "                    description='values_range',\n",
    "                    disabled=False,\n",
    "                    orientation='horizontal',\n",
    "                    readout=True,\n",
    "                    readout_format='.1f')\n",
    "\n",
    "    \n",
    "    def layout(self):\n",
    "        tab = widgets.Tab()\n",
    "        tab.children = [self.tab_layout(col) for col in self.columns]\n",
    "        for num, col in enumerate(analysis_columns):\n",
    "            tab.set_title(num, col)\n",
    "        return tab\n",
    "    \n",
    "    def display(self):\n",
    "        display(self.layout())"
   ]
  },
  {
   "cell_type": "code",
   "execution_count": 52,
   "metadata": {},
   "outputs": [
    {
     "data": {
      "application/vnd.jupyter.widget-view+json": {
       "model_id": "b19fa8ee947e46ffaf44dabea9c6afd5",
       "version_major": 2,
       "version_minor": 0
      },
      "text/html": [
       "<p>Failed to display Jupyter Widget of type <code>Tab</code>.</p>\n",
       "<p>\n",
       "  If you're reading this message in the Jupyter Notebook or JupyterLab Notebook, it may mean\n",
       "  that the widgets JavaScript is still loading. If this message persists, it\n",
       "  likely means that the widgets JavaScript library is either not installed or\n",
       "  not enabled. See the <a href=\"https://ipywidgets.readthedocs.io/en/stable/user_install.html\">Jupyter\n",
       "  Widgets Documentation</a> for setup instructions.\n",
       "</p>\n",
       "<p>\n",
       "  If you're reading this message in another frontend (for example, a static\n",
       "  rendering on GitHub or <a href=\"https://nbviewer.jupyter.org/\">NBViewer</a>),\n",
       "  it may mean that your frontend doesn't currently support widgets.\n",
       "</p>\n"
      ],
      "text/plain": [
       "Tab(children=(FloatSlider(value=24368.0, description='values_range', max=46256.0, min=24368.0, readout_format='.1f'), FloatSlider(value=20150901.0, description='values_range', max=20150928.0, min=20150901.0, readout_format='.1f'), FloatSlider(value=1.0, description='values_range', max=1.0, readout_format='.1f'), FloatSlider(value=4.0, description='values_range', max=4.0, min=1.0, readout_format='.1f'), FloatSlider(value=3.0, description='values_range', max=3.0, readout_format='.1f'), FloatSlider(value=0.0, description='values_range', max=0.0, readout_format='.1f'), SelectMultiple(options=('chf', 'eur', 'rur', 'usd'), value=())), _titles={'0': 'ID', '1': 'SK_DATE_DECISION', '2': 'DEF', '3': 'NUM_SOURCE', '4': 'CREDIT_ACTIVE', '5': 'CREDIT_COLLATERAL', '6': 'CREDIT_CURRENCY'})"
      ]
     },
     "metadata": {},
     "output_type": "display_data"
    }
   ],
   "source": [
    "main_layout = Layout(data, analysis_columns)\n",
    "main_layout.display()"
   ]
  }
 ],
 "metadata": {
  "kernelspec": {
   "display_name": "Python 3",
   "language": "python",
   "name": "python3"
  },
  "language_info": {
   "codemirror_mode": {
    "name": "ipython",
    "version": 3
   },
   "file_extension": ".py",
   "mimetype": "text/x-python",
   "name": "python",
   "nbconvert_exporter": "python",
   "pygments_lexer": "ipython3",
   "version": "3.6.4"
  }
 },
 "nbformat": 4,
 "nbformat_minor": 2
}
